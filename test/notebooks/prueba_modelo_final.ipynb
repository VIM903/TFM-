{
 "cells": [
  {
   "cell_type": "code",
   "execution_count": 5,
   "id": "e9fe2c42",
   "metadata": {},
   "outputs": [
    {
     "name": "stdout",
     "output_type": "stream",
     "text": [
      "Collecting opencv-python\n",
      "  Downloading opencv_python-4.11.0.86-cp37-abi3-win_amd64.whl (39.5 MB)\n",
      "Requirement already satisfied: numpy>=1.21.2 in c:\\users\\swatc\\desktop\\uni\\tfm310\\lib\\site-packages (from opencv-python) (2.1.3)\n",
      "Installing collected packages: opencv-python\n",
      "Successfully installed opencv-python-4.11.0.86\n"
     ]
    },
    {
     "name": "stderr",
     "output_type": "stream",
     "text": [
      "WARNING: You are using pip version 21.2.3; however, version 25.1.1 is available.\n",
      "You should consider upgrading via the 'C:\\Users\\swatc\\Desktop\\UNI\\tfm310\\Scripts\\python.exe -m pip install --upgrade pip' command.\n"
     ]
    }
   ],
   "source": [
    "!pip install opencv-python"
   ]
  },
  {
   "cell_type": "code",
   "execution_count": 4,
   "id": "bf12ba27",
   "metadata": {},
   "outputs": [],
   "source": [
    "import numpy as np\n",
    "import pandas as pd\n",
    "import random\n",
    "from matplotlib import pyplot as plt\n",
    "from matplotlib import image as mpimage"
   ]
  },
  {
   "cell_type": "markdown",
   "id": "c032baba",
   "metadata": {},
   "source": [
    "### Pruebas con mamografías diferentes"
   ]
  },
  {
   "cell_type": "code",
   "execution_count": 6,
   "id": "002cf39c",
   "metadata": {},
   "outputs": [
    {
     "name": "stdout",
     "output_type": "stream",
     "text": [
      "Modelo cargado correctamente.\n"
     ]
    }
   ],
   "source": [
    "import tensorflow as tf\n",
    "\n",
    "# Ruta de tu modelo\n",
    "model_path = \"C:/Users/swatc/Desktop/UNI/TFM/TFM/src/serve/trymodel_8.keras\"\n",
    "model = tf.keras.models.load_model(model_path)\n",
    "\n",
    "print(\"Modelo cargado correctamente.\")\n"
   ]
  },
  {
   "cell_type": "code",
   "execution_count": 7,
   "id": "a7dc312f",
   "metadata": {},
   "outputs": [],
   "source": [
    "import cv2\n",
    "import numpy as np\n",
    "\n",
    "image_path = \"C:/Users/swatc/Desktop/UNI/TFM/MamografiasDEMO/MALIGNO/7.jpg\"\n",
    "img = cv2.imread(image_path)\n",
    "\n",
    "if img is None:\n",
    "    raise FileNotFoundError(f\"No se pudo cargar la imagen en la ruta: {image_path}\")\n",
    "\n",
    "img = cv2.cvtColor(img, cv2.COLOR_BGR2RGB)\n",
    "img = cv2.resize(img, (224, 224))\n",
    "img = img / 255.0\n",
    "input_img = np.expand_dims(img, axis=0)\n"
   ]
  },
  {
   "cell_type": "code",
   "execution_count": null,
   "id": "91d9d5ba",
   "metadata": {},
   "outputs": [
    {
     "name": "stdout",
     "output_type": "stream",
     "text": [
      "\u001b[1m1/1\u001b[0m \u001b[32m━━━━━━━━━━━━━━━━━━━━\u001b[0m\u001b[37m\u001b[0m \u001b[1m0s\u001b[0m 104ms/step\n",
      "Predicción (clase): 1\n",
      "Probabilidad (maligno): 0.6628\n"
     ]
    }
   ],
   "source": [
    "# Predicción \n",
    "pred = model.predict(input_img)\n",
    "\n",
    "# Probabilidad de la clase positiva (maligno)\n",
    "probabilidad = pred[0][0]\n",
    "\n",
    "# Clasifica en 0 o 1 (puedes ajustar el umbral si quieres)\n",
    "clase_predicha = int(probabilidad > 0.5)\n",
    "\n",
    "# Muestra los resultados\n",
    "print(f\"Predicción (clase): {clase_predicha}\")\n",
    "print(f\"Probabilidad (maligno): {probabilidad:.4f}\")\n"
   ]
  }
 ],
 "metadata": {
  "kernelspec": {
   "display_name": "tfm310",
   "language": "python",
   "name": "python3"
  },
  "language_info": {
   "codemirror_mode": {
    "name": "ipython",
    "version": 3
   },
   "file_extension": ".py",
   "mimetype": "text/x-python",
   "name": "python",
   "nbconvert_exporter": "python",
   "pygments_lexer": "ipython3",
   "version": "3.10.0"
  }
 },
 "nbformat": 4,
 "nbformat_minor": 5
}

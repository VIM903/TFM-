{
 "cells": [
  {
   "cell_type": "markdown",
   "id": "a0d1df3e",
   "metadata": {},
   "source": [
    "## Librerías"
   ]
  },
  {
   "cell_type": "markdown",
   "id": "bcac7fcd",
   "metadata": {},
   "source": [
    "*Keras*"
   ]
  },
  {
   "cell_type": "code",
   "execution_count": 110,
   "id": "2cb26845",
   "metadata": {},
   "outputs": [],
   "source": [
    "from tensorflow.keras.layers import Conv2D, Dense, Dropout, MaxPool2D, Flatten\n",
    "from tensorflow.keras import Sequential\n",
    "from tensorflow.keras.preprocessing.image import ImageDataGenerator\n",
    "from tensorflow.keras.utils import to_categorical\n",
    "import gzip"
   ]
  },
  {
   "cell_type": "markdown",
   "id": "bff884e9",
   "metadata": {},
   "source": [
    "*Sklearn*"
   ]
  },
  {
   "cell_type": "code",
   "execution_count": 111,
   "id": "47375980",
   "metadata": {},
   "outputs": [],
   "source": [
    "from sklearn.model_selection import train_test_split\n",
    "from sklearn.metrics import accuracy_score"
   ]
  },
  {
   "cell_type": "markdown",
   "id": "b45d23dc",
   "metadata": {},
   "source": [
    "*Datos + Viz*"
   ]
  },
  {
   "cell_type": "code",
   "execution_count": 112,
   "id": "f2f85621",
   "metadata": {},
   "outputs": [],
   "source": [
    "import numpy as np\n",
    "import pandas as pd\n",
    "import random\n",
    "from matplotlib import pyplot as plt\n",
    "from matplotlib import image as mpimage"
   ]
  },
  {
   "cell_type": "code",
   "execution_count": 113,
   "id": "1af1e396",
   "metadata": {},
   "outputs": [],
   "source": [
    "from PIL import Image\n",
    "import os"
   ]
  },
  {
   "cell_type": "markdown",
   "id": "3b9649d3",
   "metadata": {},
   "source": [
    "## Ficheros"
   ]
  },
  {
   "cell_type": "code",
   "execution_count": 114,
   "id": "8196f4db",
   "metadata": {},
   "outputs": [],
   "source": [
    "calc_train = pd.read_csv('../../artifacts/data/calc_case_description_train_set.csv')\n",
    "calc_test = pd.read_csv('../../artifacts/data/calc_case_description_test_set.csv')\n",
    "mass_train = pd.read_csv('../../artifacts/data/mass_case_description_train_set.csv')\n",
    "mass_test = pd.read_csv('../../artifacts/data/mass_case_description_test_set.csv')\n",
    "dicom_df = pd.read_csv('../../artifacts/data/dicom_info.csv')"
   ]
  },
  {
   "cell_type": "code",
   "execution_count": 115,
   "id": "d293dbf1",
   "metadata": {},
   "outputs": [
    {
     "data": {
      "text/html": [
       "<div>\n",
       "<style scoped>\n",
       "    .dataframe tbody tr th:only-of-type {\n",
       "        vertical-align: middle;\n",
       "    }\n",
       "\n",
       "    .dataframe tbody tr th {\n",
       "        vertical-align: top;\n",
       "    }\n",
       "\n",
       "    .dataframe thead th {\n",
       "        text-align: right;\n",
       "    }\n",
       "</style>\n",
       "<table border=\"1\" class=\"dataframe\">\n",
       "  <thead>\n",
       "    <tr style=\"text-align: right;\">\n",
       "      <th></th>\n",
       "      <th>patient_id</th>\n",
       "      <th>breast density</th>\n",
       "      <th>left or right breast</th>\n",
       "      <th>image view</th>\n",
       "      <th>abnormality id</th>\n",
       "      <th>abnormality type</th>\n",
       "      <th>calc type</th>\n",
       "      <th>calc distribution</th>\n",
       "      <th>assessment</th>\n",
       "      <th>pathology</th>\n",
       "      <th>subtlety</th>\n",
       "      <th>image file path</th>\n",
       "      <th>cropped image file path</th>\n",
       "      <th>ROI mask file path</th>\n",
       "    </tr>\n",
       "  </thead>\n",
       "  <tbody>\n",
       "    <tr>\n",
       "      <th>0</th>\n",
       "      <td>P_00005</td>\n",
       "      <td>3</td>\n",
       "      <td>RIGHT</td>\n",
       "      <td>CC</td>\n",
       "      <td>1</td>\n",
       "      <td>calcification</td>\n",
       "      <td>AMORPHOUS</td>\n",
       "      <td>CLUSTERED</td>\n",
       "      <td>3</td>\n",
       "      <td>MALIGNANT</td>\n",
       "      <td>3</td>\n",
       "      <td>Calc-Training_P_00005_RIGHT_CC/1.3.6.1.4.1.959...</td>\n",
       "      <td>Calc-Training_P_00005_RIGHT_CC_1/1.3.6.1.4.1.9...</td>\n",
       "      <td>Calc-Training_P_00005_RIGHT_CC_1/1.3.6.1.4.1.9...</td>\n",
       "    </tr>\n",
       "  </tbody>\n",
       "</table>\n",
       "</div>"
      ],
      "text/plain": [
       "  patient_id  breast density left or right breast image view  abnormality id  \\\n",
       "0    P_00005               3                RIGHT         CC               1   \n",
       "\n",
       "  abnormality type  calc type calc distribution  assessment  pathology  \\\n",
       "0    calcification  AMORPHOUS         CLUSTERED           3  MALIGNANT   \n",
       "\n",
       "   subtlety                                    image file path  \\\n",
       "0         3  Calc-Training_P_00005_RIGHT_CC/1.3.6.1.4.1.959...   \n",
       "\n",
       "                             cropped image file path  \\\n",
       "0  Calc-Training_P_00005_RIGHT_CC_1/1.3.6.1.4.1.9...   \n",
       "\n",
       "                                  ROI mask file path  \n",
       "0  Calc-Training_P_00005_RIGHT_CC_1/1.3.6.1.4.1.9...  "
      ]
     },
     "execution_count": 115,
     "metadata": {},
     "output_type": "execute_result"
    }
   ],
   "source": [
    "calc_train.head(1)"
   ]
  },
  {
   "cell_type": "code",
   "execution_count": 116,
   "id": "b0fa1727",
   "metadata": {},
   "outputs": [
    {
     "data": {
      "text/plain": [
       "1546"
      ]
     },
     "execution_count": 116,
     "metadata": {},
     "output_type": "execute_result"
    }
   ],
   "source": [
    "len(calc_train)"
   ]
  },
  {
   "cell_type": "code",
   "execution_count": 117,
   "id": "cd6032b1",
   "metadata": {},
   "outputs": [
    {
     "data": {
      "text/html": [
       "<div>\n",
       "<style scoped>\n",
       "    .dataframe tbody tr th:only-of-type {\n",
       "        vertical-align: middle;\n",
       "    }\n",
       "\n",
       "    .dataframe tbody tr th {\n",
       "        vertical-align: top;\n",
       "    }\n",
       "\n",
       "    .dataframe thead th {\n",
       "        text-align: right;\n",
       "    }\n",
       "</style>\n",
       "<table border=\"1\" class=\"dataframe\">\n",
       "  <thead>\n",
       "    <tr style=\"text-align: right;\">\n",
       "      <th></th>\n",
       "      <th>file_path</th>\n",
       "      <th>image_path</th>\n",
       "      <th>AccessionNumber</th>\n",
       "      <th>BitsAllocated</th>\n",
       "      <th>BitsStored</th>\n",
       "      <th>BodyPartExamined</th>\n",
       "      <th>Columns</th>\n",
       "      <th>ContentDate</th>\n",
       "      <th>ContentTime</th>\n",
       "      <th>ConversionType</th>\n",
       "      <th>...</th>\n",
       "      <th>SecondaryCaptureDeviceManufacturerModelName</th>\n",
       "      <th>SeriesDescription</th>\n",
       "      <th>SeriesInstanceUID</th>\n",
       "      <th>SeriesNumber</th>\n",
       "      <th>SmallestImagePixelValue</th>\n",
       "      <th>SpecificCharacterSet</th>\n",
       "      <th>StudyDate</th>\n",
       "      <th>StudyID</th>\n",
       "      <th>StudyInstanceUID</th>\n",
       "      <th>StudyTime</th>\n",
       "    </tr>\n",
       "  </thead>\n",
       "  <tbody>\n",
       "    <tr>\n",
       "      <th>0</th>\n",
       "      <td>CBIS-DDSM/dicom/1.3.6.1.4.1.9590.100.1.2.12930...</td>\n",
       "      <td>CBIS-DDSM/jpeg/1.3.6.1.4.1.9590.100.1.2.129308...</td>\n",
       "      <td>NaN</td>\n",
       "      <td>16</td>\n",
       "      <td>16</td>\n",
       "      <td>BREAST</td>\n",
       "      <td>351</td>\n",
       "      <td>20160426</td>\n",
       "      <td>131732.685</td>\n",
       "      <td>WSD</td>\n",
       "      <td>...</td>\n",
       "      <td>MATLAB</td>\n",
       "      <td>cropped images</td>\n",
       "      <td>1.3.6.1.4.1.9590.100.1.2.129308726812851964007...</td>\n",
       "      <td>1</td>\n",
       "      <td>23078</td>\n",
       "      <td>ISO_IR 100</td>\n",
       "      <td>20160720.0</td>\n",
       "      <td>DDSM</td>\n",
       "      <td>1.3.6.1.4.1.9590.100.1.2.271867287611061855725...</td>\n",
       "      <td>214951.0</td>\n",
       "    </tr>\n",
       "    <tr>\n",
       "      <th>1</th>\n",
       "      <td>CBIS-DDSM/dicom/1.3.6.1.4.1.9590.100.1.2.24838...</td>\n",
       "      <td>CBIS-DDSM/jpeg/1.3.6.1.4.1.9590.100.1.2.248386...</td>\n",
       "      <td>NaN</td>\n",
       "      <td>16</td>\n",
       "      <td>16</td>\n",
       "      <td>BREAST</td>\n",
       "      <td>3526</td>\n",
       "      <td>20160426</td>\n",
       "      <td>143829.101</td>\n",
       "      <td>WSD</td>\n",
       "      <td>...</td>\n",
       "      <td>MATLAB</td>\n",
       "      <td>full mammogram images</td>\n",
       "      <td>1.3.6.1.4.1.9590.100.1.2.248386742010678582309...</td>\n",
       "      <td>1</td>\n",
       "      <td>0</td>\n",
       "      <td>ISO_IR 100</td>\n",
       "      <td>20160720.0</td>\n",
       "      <td>DDSM</td>\n",
       "      <td>1.3.6.1.4.1.9590.100.1.2.161516517311681906612...</td>\n",
       "      <td>193426.0</td>\n",
       "    </tr>\n",
       "    <tr>\n",
       "      <th>2</th>\n",
       "      <td>CBIS-DDSM/dicom/1.3.6.1.4.1.9590.100.1.2.26721...</td>\n",
       "      <td>CBIS-DDSM/jpeg/1.3.6.1.4.1.9590.100.1.2.267213...</td>\n",
       "      <td>NaN</td>\n",
       "      <td>16</td>\n",
       "      <td>16</td>\n",
       "      <td>BREAST</td>\n",
       "      <td>1546</td>\n",
       "      <td>20160503</td>\n",
       "      <td>111956.298</td>\n",
       "      <td>WSD</td>\n",
       "      <td>...</td>\n",
       "      <td>MATLAB</td>\n",
       "      <td>full mammogram images</td>\n",
       "      <td>1.3.6.1.4.1.9590.100.1.2.267213171011171858918...</td>\n",
       "      <td>1</td>\n",
       "      <td>0</td>\n",
       "      <td>ISO_IR 100</td>\n",
       "      <td>20160807.0</td>\n",
       "      <td>DDSM</td>\n",
       "      <td>1.3.6.1.4.1.9590.100.1.2.291043622711253836701...</td>\n",
       "      <td>161814.0</td>\n",
       "    </tr>\n",
       "    <tr>\n",
       "      <th>3</th>\n",
       "      <td>CBIS-DDSM/dicom/1.3.6.1.4.1.9590.100.1.2.38118...</td>\n",
       "      <td>CBIS-DDSM/jpeg/1.3.6.1.4.1.9590.100.1.2.381187...</td>\n",
       "      <td>NaN</td>\n",
       "      <td>16</td>\n",
       "      <td>16</td>\n",
       "      <td>BREAST</td>\n",
       "      <td>97</td>\n",
       "      <td>20160503</td>\n",
       "      <td>115347.770</td>\n",
       "      <td>WSD</td>\n",
       "      <td>...</td>\n",
       "      <td>MATLAB</td>\n",
       "      <td>cropped images</td>\n",
       "      <td>1.3.6.1.4.1.9590.100.1.2.381187369611524586537...</td>\n",
       "      <td>1</td>\n",
       "      <td>32298</td>\n",
       "      <td>ISO_IR 100</td>\n",
       "      <td>20170829.0</td>\n",
       "      <td>DDSM</td>\n",
       "      <td>1.3.6.1.4.1.9590.100.1.2.335006093711888937440...</td>\n",
       "      <td>180109.0</td>\n",
       "    </tr>\n",
       "    <tr>\n",
       "      <th>4</th>\n",
       "      <td>CBIS-DDSM/dicom/1.3.6.1.4.1.9590.100.1.2.38118...</td>\n",
       "      <td>CBIS-DDSM/jpeg/1.3.6.1.4.1.9590.100.1.2.381187...</td>\n",
       "      <td>NaN</td>\n",
       "      <td>8</td>\n",
       "      <td>8</td>\n",
       "      <td>Left Breast</td>\n",
       "      <td>3104</td>\n",
       "      <td>20160503</td>\n",
       "      <td>115347.770</td>\n",
       "      <td>WSD</td>\n",
       "      <td>...</td>\n",
       "      <td>MATLAB</td>\n",
       "      <td>NaN</td>\n",
       "      <td>1.3.6.1.4.1.9590.100.1.2.381187369611524586537...</td>\n",
       "      <td>1</td>\n",
       "      <td>0</td>\n",
       "      <td>ISO_IR 100</td>\n",
       "      <td>NaN</td>\n",
       "      <td>DDSM</td>\n",
       "      <td>1.3.6.1.4.1.9590.100.1.2.335006093711888937440...</td>\n",
       "      <td>NaN</td>\n",
       "    </tr>\n",
       "  </tbody>\n",
       "</table>\n",
       "<p>5 rows × 38 columns</p>\n",
       "</div>"
      ],
      "text/plain": [
       "                                           file_path  \\\n",
       "0  CBIS-DDSM/dicom/1.3.6.1.4.1.9590.100.1.2.12930...   \n",
       "1  CBIS-DDSM/dicom/1.3.6.1.4.1.9590.100.1.2.24838...   \n",
       "2  CBIS-DDSM/dicom/1.3.6.1.4.1.9590.100.1.2.26721...   \n",
       "3  CBIS-DDSM/dicom/1.3.6.1.4.1.9590.100.1.2.38118...   \n",
       "4  CBIS-DDSM/dicom/1.3.6.1.4.1.9590.100.1.2.38118...   \n",
       "\n",
       "                                          image_path  AccessionNumber  \\\n",
       "0  CBIS-DDSM/jpeg/1.3.6.1.4.1.9590.100.1.2.129308...              NaN   \n",
       "1  CBIS-DDSM/jpeg/1.3.6.1.4.1.9590.100.1.2.248386...              NaN   \n",
       "2  CBIS-DDSM/jpeg/1.3.6.1.4.1.9590.100.1.2.267213...              NaN   \n",
       "3  CBIS-DDSM/jpeg/1.3.6.1.4.1.9590.100.1.2.381187...              NaN   \n",
       "4  CBIS-DDSM/jpeg/1.3.6.1.4.1.9590.100.1.2.381187...              NaN   \n",
       "\n",
       "   BitsAllocated  BitsStored BodyPartExamined  Columns  ContentDate  \\\n",
       "0             16          16           BREAST      351     20160426   \n",
       "1             16          16           BREAST     3526     20160426   \n",
       "2             16          16           BREAST     1546     20160503   \n",
       "3             16          16           BREAST       97     20160503   \n",
       "4              8           8      Left Breast     3104     20160503   \n",
       "\n",
       "   ContentTime ConversionType  ...  \\\n",
       "0   131732.685            WSD  ...   \n",
       "1   143829.101            WSD  ...   \n",
       "2   111956.298            WSD  ...   \n",
       "3   115347.770            WSD  ...   \n",
       "4   115347.770            WSD  ...   \n",
       "\n",
       "   SecondaryCaptureDeviceManufacturerModelName      SeriesDescription  \\\n",
       "0                                       MATLAB         cropped images   \n",
       "1                                       MATLAB  full mammogram images   \n",
       "2                                       MATLAB  full mammogram images   \n",
       "3                                       MATLAB         cropped images   \n",
       "4                                       MATLAB                    NaN   \n",
       "\n",
       "                                   SeriesInstanceUID SeriesNumber  \\\n",
       "0  1.3.6.1.4.1.9590.100.1.2.129308726812851964007...            1   \n",
       "1  1.3.6.1.4.1.9590.100.1.2.248386742010678582309...            1   \n",
       "2  1.3.6.1.4.1.9590.100.1.2.267213171011171858918...            1   \n",
       "3  1.3.6.1.4.1.9590.100.1.2.381187369611524586537...            1   \n",
       "4  1.3.6.1.4.1.9590.100.1.2.381187369611524586537...            1   \n",
       "\n",
       "  SmallestImagePixelValue  SpecificCharacterSet   StudyDate StudyID  \\\n",
       "0                   23078            ISO_IR 100  20160720.0    DDSM   \n",
       "1                       0            ISO_IR 100  20160720.0    DDSM   \n",
       "2                       0            ISO_IR 100  20160807.0    DDSM   \n",
       "3                   32298            ISO_IR 100  20170829.0    DDSM   \n",
       "4                       0            ISO_IR 100         NaN    DDSM   \n",
       "\n",
       "                                    StudyInstanceUID  StudyTime  \n",
       "0  1.3.6.1.4.1.9590.100.1.2.271867287611061855725...   214951.0  \n",
       "1  1.3.6.1.4.1.9590.100.1.2.161516517311681906612...   193426.0  \n",
       "2  1.3.6.1.4.1.9590.100.1.2.291043622711253836701...   161814.0  \n",
       "3  1.3.6.1.4.1.9590.100.1.2.335006093711888937440...   180109.0  \n",
       "4  1.3.6.1.4.1.9590.100.1.2.335006093711888937440...        NaN  \n",
       "\n",
       "[5 rows x 38 columns]"
      ]
     },
     "execution_count": 117,
     "metadata": {},
     "output_type": "execute_result"
    }
   ],
   "source": [
    "dicom_df.head()"
   ]
  },
  {
   "cell_type": "markdown",
   "id": "c4ca368e",
   "metadata": {},
   "source": [
    "### Filtrado y limpieza de imágenes"
   ]
  },
  {
   "cell_type": "markdown",
   "id": "faafcb73",
   "metadata": {},
   "source": [
    "### Rutas"
   ]
  },
  {
   "cell_type": "markdown",
   "id": "3174d134",
   "metadata": {},
   "source": [
    "Las rutas correctas a la imágenes están en el fichero Dicom. Por ello, hay que obtener las rutas correctas de dicom, y después aplicarlas al resto de ficheros de test y entrenamiento"
   ]
  },
  {
   "cell_type": "code",
   "execution_count": 118,
   "id": "3a39241a",
   "metadata": {},
   "outputs": [],
   "source": [
    "#función para reemplazar rutas:\n",
    "\n",
    "def replace_path(sample, old_path, new_path):\n",
    "    return sample.replace(old_path, new_path, regex=True)"
   ]
  },
  {
   "cell_type": "code",
   "execution_count": 119,
   "id": "8b3841cd",
   "metadata": {},
   "outputs": [
    {
     "name": "stdout",
     "output_type": "stream",
     "text": [
      "Cropped Images paths:\n",
      "C:/Users/swatc/Desktop/UNI/TFM/TFM/artifacts/data/jpeg/1.3.6.1.4.1.9590.100.1.2.129308726812851964007517874181459556304/1-172.jpg\n",
      "\n",
      "Full mammo Images paths:\n",
      "C:/Users/swatc/Desktop/UNI/TFM/TFM/artifacts/data/jpeg/1.3.6.1.4.1.9590.100.1.2.248386742010678582309005372213277814849/1-249.jpg\n",
      "\n",
      "ROI Mask Images paths:\n",
      "C:/Users/swatc/Desktop/UNI/TFM/TFM/artifacts/data/jpeg/1.3.6.1.4.1.9590.100.1.2.153339052913121382622526066491844156138/2-270.jpg\n"
     ]
    }
   ],
   "source": [
    "# def plot_smaples(sample, row=15, col=15):\n",
    "#     plt.figure(figsize=(row, col))\n",
    "#     for i, file in enumerate(sample[0:5]):\n",
    "#         cropped_images_show = PIL.Image.open(file)\n",
    "#         gray_img= cropped_images_show.convert(\"L\")\n",
    "#         plt.subplot(1,5,i+1)\n",
    "#         plt.imshow(gray_img, cmap='gray')\n",
    "#         plt.axis('off')\n",
    "#     plt.show()\n",
    "\n",
    "# obtener las rutas de dicom: Se filtra para los tres tipos de imágenes y se guardan en series\n",
    "cropped_images = dicom_df[dicom_df.SeriesDescription==\"cropped images\"].image_path\n",
    "full_mammogram = dicom_df[dicom_df.SeriesDescription==\"full mammogram images\"].image_path\n",
    "roi_mask = dicom_df[dicom_df.SeriesDescription==\"ROI mask images\"].image_path\n",
    "\n",
    "#Ruta correcta\n",
    "correct_dir = \"C:/Users/swatc/Desktop/UNI/TFM/TFM/artifacts/data/jpeg\"\n",
    "\n",
    "# Reemplazar ruta para cropped_images\n",
    "cropped_images = replace_path(cropped_images, \"CBIS-DDSM/jpeg\", correct_dir)\n",
    "print('Cropped Images paths:')\n",
    "print(cropped_images.iloc[0]) #comprobar ruta\n",
    "\n",
    "\n",
    "# Reemplazar ruta para full_mammogram .\n",
    "full_mammogram = replace_path(full_mammogram, \"CBIS-DDSM/jpeg\", correct_dir)\n",
    "print('\\nFull mammo Images paths:')\n",
    "print(full_mammogram.iloc[0])  #comprobar ruta\n",
    "\n",
    "# Reemplazar ruta para roi_mask\n",
    "roi_mask = replace_path(roi_mask, \"CBIS-DDSM/jpeg\", correct_dir)\n",
    "print('\\nROI Mask Images paths:')\n",
    "print(roi_mask.iloc[0])  #comprobar ruta"
   ]
  },
  {
   "cell_type": "code",
   "execution_count": 120,
   "id": "61e0c12b",
   "metadata": {},
   "outputs": [],
   "source": [
    "# Se crean diccionarios donde:\n",
    "# - La clave es una parte del nombre del archivo extraída de la ruta (el elemento en la posición [10] al hacer .split('/')).\n",
    "# - El valor es la ruta completa.\n",
    "\n",
    "def get_image_file_name(data, new_dict):\n",
    "\n",
    "    for dicom in data:\n",
    "        key = dicom.split('/')[10]\n",
    "        new_dict[key] = dicom\n",
    "    print(f\"the length of dataset ==> {len(new_dict.keys())}\")"
   ]
  },
  {
   "cell_type": "code",
   "execution_count": 121,
   "id": "53fcb78f",
   "metadata": {},
   "outputs": [
    {
     "name": "stdout",
     "output_type": "stream",
     "text": [
      "the length of dataset ==> 3567\n",
      "the length of dataset ==> 2857\n",
      "the length of dataset ==> 3247\n"
     ]
    }
   ],
   "source": [
    "cropped_images_dict = dict()\n",
    "full_mammo_dict = dict()\n",
    "roi_img_dict = dict()\n",
    "\n",
    "get_image_file_name(cropped_images, cropped_images_dict)\n",
    "get_image_file_name(full_mammogram, full_mammo_dict)\n",
    "get_image_file_name(roi_mask, roi_img_dict)"
   ]
  },
  {
   "cell_type": "code",
   "execution_count": 122,
   "id": "4fc6f01e",
   "metadata": {},
   "outputs": [],
   "source": [
    "# Extraer una parte del nombre de imagen desde las columnas 11, 12 y 13 (que contienen rutas)\n",
    "# Usar *_dict para buscar la ruta real y correcta de la imagen\n",
    "# Sustituir la ruta en el DataFrame\n",
    "# Si no encuentra la imagen en el diccionario, poner None\n",
    "\n",
    "def fix_image_path(data):\n",
    "    \"\"\"modifica rutas dicom a las imagenes correctas\"\"\"\n",
    "    for indx, image in enumerate(data.values):\n",
    "\n",
    "        img_name = image[11].split('/')[2]\n",
    "\n",
    "        if img_name in full_mammo_dict:\n",
    "            data.iloc[indx, 11] = full_mammo_dict[img_name]\n",
    "        else:\n",
    "            data.iloc[indx, 11] = None\n",
    "        \n",
    "        img_name = image[12].split('/')[2]\n",
    "        if img_name in cropped_images_dict:\n",
    "            data.iloc[indx, 12] = cropped_images_dict[img_name]\n",
    "        else:\n",
    "            data.iloc[indx, 12] = None\n",
    "\n",
    "        img_name = image[13].split('/')[2]\n",
    "        if img_name in roi_img_dict:\n",
    "            data.iloc[indx, 13] = roi_img_dict[img_name]\n",
    "\n",
    "        else:\n",
    "            data.iloc[indx, 13] = None"
   ]
  },
  {
   "cell_type": "code",
   "execution_count": 123,
   "id": "b77494d4",
   "metadata": {},
   "outputs": [],
   "source": [
    "fix_image_path(mass_train)\n",
    "fix_image_path(mass_test)\n",
    "fix_image_path(calc_train)\n",
    "fix_image_path(calc_test)"
   ]
  },
  {
   "cell_type": "code",
   "execution_count": 124,
   "id": "734fe3dd",
   "metadata": {},
   "outputs": [
    {
     "name": "stdout",
     "output_type": "stream",
     "text": [
      "\n",
      "🔍 Verificando mass_train\n",
      "\n",
      "📂 Columna: image file path\n",
      "[0] Ruta: C:/Users/swatc/Desktop/UNI/TFM/TFM/artifacts/data/jpeg/1.3.6.1.4.1.9590.100.1.2.342386194811267636608694132590482924515/1-211.jpg\n",
      "✅ Imagen válida.\n",
      "[1] Ruta: C:/Users/swatc/Desktop/UNI/TFM/TFM/artifacts/data/jpeg/1.3.6.1.4.1.9590.100.1.2.359308329312397897125630708681441180834/1-207.jpg\n",
      "✅ Imagen válida.\n",
      "[2] Ruta: C:/Users/swatc/Desktop/UNI/TFM/TFM/artifacts/data/jpeg/1.3.6.1.4.1.9590.100.1.2.89180046211022531834352631483669346540/1-250.jpg\n",
      "✅ Imagen válida.\n",
      "\n",
      "📂 Columna: cropped image file path\n",
      "[0] Ruta: C:/Users/swatc/Desktop/UNI/TFM/TFM/artifacts/data/jpeg/1.3.6.1.4.1.9590.100.1.2.296736403313792599626368780122205399650/2-249.jpg\n",
      "✅ Imagen válida.\n",
      "[1] Ruta: C:/Users/swatc/Desktop/UNI/TFM/TFM/artifacts/data/jpeg/1.3.6.1.4.1.9590.100.1.2.227955274711225756835838775062793186053/1-289.jpg\n",
      "✅ Imagen válida.\n",
      "[2] Ruta: C:/Users/swatc/Desktop/UNI/TFM/TFM/artifacts/data/jpeg/1.3.6.1.4.1.9590.100.1.2.429120414011832984817094399141838850375/2-295.jpg\n",
      "✅ Imagen válida.\n",
      "\n",
      "📂 Columna: ROI mask file path\n",
      "[0] Ruta: C:/Users/swatc/Desktop/UNI/TFM/TFM/artifacts/data/jpeg/1.3.6.1.4.1.9590.100.1.2.296736403313792599626368780122205399650/1-250.jpg\n",
      "✅ Imagen válida.\n",
      "[1] Ruta: C:/Users/swatc/Desktop/UNI/TFM/TFM/artifacts/data/jpeg/1.3.6.1.4.1.9590.100.1.2.227955274711225756835838775062793186053/2-288.jpg\n",
      "✅ Imagen válida.\n",
      "[2] Ruta: C:/Users/swatc/Desktop/UNI/TFM/TFM/artifacts/data/jpeg/1.3.6.1.4.1.9590.100.1.2.429120414011832984817094399141838850375/1-296.jpg\n",
      "✅ Imagen válida.\n",
      "\n",
      "🔍 Verificando mass_test\n",
      "\n",
      "📂 Columna: image file path\n",
      "[0] Ruta: C:/Users/swatc/Desktop/UNI/TFM/TFM/artifacts/data/jpeg/1.3.6.1.4.1.9590.100.1.2.245063149211255120613007755642780114172/1-271.jpg\n",
      "✅ Imagen válida.\n",
      "[1] Ruta: C:/Users/swatc/Desktop/UNI/TFM/TFM/artifacts/data/jpeg/1.3.6.1.4.1.9590.100.1.2.85952214611170506017891429690540035518/1-100.jpg\n",
      "✅ Imagen válida.\n",
      "[2] Ruta: C:/Users/swatc/Desktop/UNI/TFM/TFM/artifacts/data/jpeg/1.3.6.1.4.1.9590.100.1.2.22131189612893294827907969600765582967/1-101.jpg\n",
      "✅ Imagen válida.\n",
      "\n",
      "📂 Columna: cropped image file path\n",
      "[0] Ruta: C:/Users/swatc/Desktop/UNI/TFM/TFM/artifacts/data/jpeg/1.3.6.1.4.1.9590.100.1.2.30820586311062570442302321942433426184/2-272.jpg\n",
      "✅ Imagen válida.\n",
      "[1] Ruta: C:/Users/swatc/Desktop/UNI/TFM/TFM/artifacts/data/jpeg/1.3.6.1.4.1.9590.100.1.2.381440141511137044327302306604206077287/2-273.jpg\n",
      "✅ Imagen válida.\n",
      "[2] Ruta: C:/Users/swatc/Desktop/UNI/TFM/TFM/artifacts/data/jpeg/1.3.6.1.4.1.9590.100.1.2.212143028513012144941507232513982203672/1-274.jpg\n",
      "✅ Imagen válida.\n",
      "\n",
      "📂 Columna: ROI mask file path\n",
      "[0] Ruta: C:/Users/swatc/Desktop/UNI/TFM/TFM/artifacts/data/jpeg/1.3.6.1.4.1.9590.100.1.2.30820586311062570442302321942433426184/1-083.jpg\n",
      "✅ Imagen válida.\n",
      "[1] Ruta: C:/Users/swatc/Desktop/UNI/TFM/TFM/artifacts/data/jpeg/1.3.6.1.4.1.9590.100.1.2.381440141511137044327302306604206077287/1-084.jpg\n",
      "✅ Imagen válida.\n",
      "[2] Ruta: C:/Users/swatc/Desktop/UNI/TFM/TFM/artifacts/data/jpeg/1.3.6.1.4.1.9590.100.1.2.212143028513012144941507232513982203672/2-085.jpg\n",
      "✅ Imagen válida.\n",
      "\n",
      "🔍 Verificando calc_train\n",
      "\n",
      "📂 Columna: image file path\n",
      "[0] Ruta: C:/Users/swatc/Desktop/UNI/TFM/TFM/artifacts/data/jpeg/1.3.6.1.4.1.9590.100.1.2.47414316010368386519740343172775938548/1-188.jpg\n",
      "✅ Imagen válida.\n",
      "[1] Ruta: C:/Users/swatc/Desktop/UNI/TFM/TFM/artifacts/data/jpeg/1.3.6.1.4.1.9590.100.1.2.250596608311207922527805669693579696727/1-189.jpg\n",
      "✅ Imagen válida.\n",
      "[2] Ruta: C:/Users/swatc/Desktop/UNI/TFM/TFM/artifacts/data/jpeg/1.3.6.1.4.1.9590.100.1.2.228699627313487111012474405462022068297/1-190.jpg\n",
      "✅ Imagen válida.\n",
      "\n",
      "📂 Columna: cropped image file path\n",
      "[0] Ruta: C:/Users/swatc/Desktop/UNI/TFM/TFM/artifacts/data/jpeg/1.3.6.1.4.1.9590.100.1.2.393344010211719049419601138200355094682/2-191.jpg\n",
      "✅ Imagen válida.\n",
      "[1] Ruta: C:/Users/swatc/Desktop/UNI/TFM/TFM/artifacts/data/jpeg/1.3.6.1.4.1.9590.100.1.2.296281207812130400303493285473798422894/1-192.jpg\n",
      "✅ Imagen válida.\n",
      "[2] Ruta: C:/Users/swatc/Desktop/UNI/TFM/TFM/artifacts/data/jpeg/1.3.6.1.4.1.9590.100.1.2.314135871111943890422150247820137952041/1-193.jpg\n",
      "✅ Imagen válida.\n",
      "\n",
      "📂 Columna: ROI mask file path\n",
      "[0] Ruta: C:/Users/swatc/Desktop/UNI/TFM/TFM/artifacts/data/jpeg/1.3.6.1.4.1.9590.100.1.2.393344010211719049419601138200355094682/1-107.jpg\n",
      "✅ Imagen válida.\n",
      "[1] Ruta: C:/Users/swatc/Desktop/UNI/TFM/TFM/artifacts/data/jpeg/1.3.6.1.4.1.9590.100.1.2.296281207812130400303493285473798422894/2-108.jpg\n",
      "✅ Imagen válida.\n",
      "[2] Ruta: C:/Users/swatc/Desktop/UNI/TFM/TFM/artifacts/data/jpeg/1.3.6.1.4.1.9590.100.1.2.314135871111943890422150247820137952041/2-109.jpg\n",
      "✅ Imagen válida.\n",
      "\n",
      "🔍 Verificando calc_test\n",
      "\n",
      "📂 Columna: image file path\n",
      "[0] Ruta: None\n",
      "❌ Ruta vacía o no existe.\n",
      "[1] Ruta: None\n",
      "❌ Ruta vacía o no existe.\n",
      "[2] Ruta: None\n",
      "❌ Ruta vacía o no existe.\n",
      "\n",
      "📂 Columna: cropped image file path\n",
      "[0] Ruta: C:/Users/swatc/Desktop/UNI/TFM/TFM/artifacts/data/jpeg/1.3.6.1.4.1.9590.100.1.2.419081637812053404913157930753972718515/1-245.jpg\n",
      "✅ Imagen válida.\n",
      "[1] Ruta: C:/Users/swatc/Desktop/UNI/TFM/TFM/artifacts/data/jpeg/1.3.6.1.4.1.9590.100.1.2.188613955710170417803011787532523988680/1-246.jpg\n",
      "✅ Imagen válida.\n",
      "[2] Ruta: C:/Users/swatc/Desktop/UNI/TFM/TFM/artifacts/data/jpeg/1.3.6.1.4.1.9590.100.1.2.244876997513875090239564803900035037851/1-248.jpg\n",
      "✅ Imagen válida.\n",
      "\n",
      "📂 Columna: ROI mask file path\n",
      "[0] Ruta: None\n",
      "❌ Ruta vacía o no existe.\n",
      "[1] Ruta: None\n",
      "❌ Ruta vacía o no existe.\n",
      "[2] Ruta: None\n",
      "❌ Ruta vacía o no existe.\n"
     ]
    }
   ],
   "source": [
    "#Verificar que las rutas se han modificado correctamente:\n",
    "\n",
    "def check_image_paths(df, name='DataFrame', cols=['image file path', 'cropped image file path', 'ROI mask file path'], n=3):\n",
    "    print(f\"\\n🔍 Verificando {name}\")\n",
    "    for col in cols:\n",
    "        print(f\"\\n📂 Columna: {col}\")\n",
    "        for i, path in enumerate(df[col].head(n)):\n",
    "            print(f\"[{i}] Ruta: {path}\")\n",
    "            if path and os.path.exists(path):\n",
    "                try:\n",
    "                    img = Image.open(path)\n",
    "                    img.verify()  # Solo comprueba que es una imagen válida\n",
    "                    print(f\"✅ Imagen válida.\")\n",
    "                except Exception as e:\n",
    "                    print(f\"❌ Error al abrir la imagen: {e}\")\n",
    "            else:\n",
    "                print(\"❌ Ruta vacía o no existe.\")\n",
    "\n",
    "\n",
    "check_image_paths(mass_train, name='mass_train')\n",
    "check_image_paths(mass_test, name='mass_test')\n",
    "check_image_paths(calc_train, name='calc_train')\n",
    "check_image_paths(calc_test, name='calc_test')\n"
   ]
  },
  {
   "cell_type": "markdown",
   "id": "c57a3524",
   "metadata": {},
   "source": [
    "Faltan algunas imágenes al menos de calc_test. Verificar posteriormente"
   ]
  },
  {
   "cell_type": "markdown",
   "id": "d9622441",
   "metadata": {},
   "source": [
    "## Análisis del dataset"
   ]
  },
  {
   "cell_type": "markdown",
   "id": "552dfb75",
   "metadata": {},
   "source": [
    "### Revisión general:"
   ]
  },
  {
   "cell_type": "code",
   "execution_count": 125,
   "id": "607bae77",
   "metadata": {},
   "outputs": [
    {
     "name": "stdout",
     "output_type": "stream",
     "text": [
      "Calc Train shape: (1546, 14)\n",
      "Calc Test shape: (326, 14)\n",
      "Mass Train shape: (1318, 14)\n",
      "Mass Test shape: (378, 14)\n",
      "\n",
      "Calc Train columns:\n",
      "Index(['patient_id', 'breast density', 'left or right breast', 'image view',\n",
      "       'abnormality id', 'abnormality type', 'calc type', 'calc distribution',\n",
      "       'assessment', 'pathology', 'subtlety', 'image file path',\n",
      "       'cropped image file path', 'ROI mask file path'],\n",
      "      dtype='object')\n",
      "\n",
      "Mass Train columns:\n",
      "Index(['patient_id', 'breast_density', 'left or right breast', 'image view',\n",
      "       'abnormality id', 'abnormality type', 'mass shape', 'mass margins',\n",
      "       'assessment', 'pathology', 'subtlety', 'image file path',\n",
      "       'cropped image file path', 'ROI mask file path'],\n",
      "      dtype='object')\n"
     ]
    }
   ],
   "source": [
    "print(\"Calc Train shape:\", calc_train.shape)\n",
    "print(\"Calc Test shape:\", calc_test.shape)\n",
    "print(\"Mass Train shape:\", mass_train.shape)\n",
    "print(\"Mass Test shape:\", mass_test.shape)\n",
    "\n",
    "print(\"\\nCalc Train columns:\")\n",
    "print(calc_train.columns)\n",
    "\n",
    "print(\"\\nMass Train columns:\")\n",
    "print(mass_train.columns)\n"
   ]
  },
  {
   "cell_type": "markdown",
   "id": "26077b3f",
   "metadata": {},
   "source": [
    "Unir train y test:"
   ]
  },
  {
   "cell_type": "code",
   "execution_count": 126,
   "id": "8cf59a42",
   "metadata": {},
   "outputs": [],
   "source": [
    "calc = pd.concat([calc_train, calc_test], ignore_index=True)\n",
    "mass = pd.concat([mass_train, mass_test], ignore_index=True)"
   ]
  },
  {
   "cell_type": "markdown",
   "id": "5dab985a",
   "metadata": {},
   "source": [
    "Corregir nombres de las columnas"
   ]
  },
  {
   "cell_type": "code",
   "execution_count": 127,
   "id": "66ad02f5",
   "metadata": {},
   "outputs": [],
   "source": [
    "def clean_column_names(df):\n",
    "    df.columns = (\n",
    "        df.columns\n",
    "        .str.strip()  # elimina espacios al inicio y fin\n",
    "        .str.lower()  # todo en minúsculas\n",
    "        .str.replace(' ', '_')  # espacios por guiones bajos\n",
    "    )\n",
    "    return df\n",
    "\n",
    "\n",
    "calc = clean_column_names(calc)\n",
    "mass = clean_column_names(mass)"
   ]
  },
  {
   "cell_type": "code",
   "execution_count": 128,
   "id": "520a0688",
   "metadata": {},
   "outputs": [
    {
     "name": "stdout",
     "output_type": "stream",
     "text": [
      "\n",
      "Calc columns:\n",
      "Index(['patient_id', 'breast_density', 'left_or_right_breast', 'image_view',\n",
      "       'abnormality_id', 'abnormality_type', 'calc_type', 'calc_distribution',\n",
      "       'assessment', 'pathology', 'subtlety', 'image_file_path',\n",
      "       'cropped_image_file_path', 'roi_mask_file_path'],\n",
      "      dtype='object')\n",
      "\n",
      "Mass columns:\n",
      "Index(['patient_id', 'breast_density', 'left_or_right_breast', 'image_view',\n",
      "       'abnormality_id', 'abnormality_type', 'mass_shape', 'mass_margins',\n",
      "       'assessment', 'pathology', 'subtlety', 'image_file_path',\n",
      "       'cropped_image_file_path', 'roi_mask_file_path'],\n",
      "      dtype='object')\n"
     ]
    }
   ],
   "source": [
    "print(\"\\nCalc columns:\")\n",
    "print(calc.columns)\n",
    "\n",
    "print(\"\\nMass columns:\")\n",
    "print(mass.columns)"
   ]
  },
  {
   "cell_type": "markdown",
   "id": "36e1aa26",
   "metadata": {},
   "source": [
    "### Análisis exploratorio:"
   ]
  },
  {
   "cell_type": "code",
   "execution_count": 129,
   "id": "9785a205",
   "metadata": {},
   "outputs": [
    {
     "name": "stdout",
     "output_type": "stream",
     "text": [
      "Total casos de calcificación: 1872\n",
      "Total casos de masa: 1696\n"
     ]
    }
   ],
   "source": [
    "print(\"Total casos de calcificación:\", len(calc))\n",
    "print(\"Total casos de masa:\", len(mass))"
   ]
  },
  {
   "cell_type": "code",
   "execution_count": 130,
   "id": "54939136",
   "metadata": {},
   "outputs": [
    {
     "name": "stdout",
     "output_type": "stream",
     "text": [
      "Distribución del BI-RADS (assessment) en calcificaciones:\n",
      "assessment\n",
      "0     76\n",
      "2    553\n",
      "3    113\n",
      "4    931\n",
      "5    199\n",
      "Name: count, dtype: int64\n",
      "\n",
      "Distribución del BI-RADS (assessment) en masas:\n",
      "assessment\n",
      "0    162\n",
      "1      3\n",
      "2     91\n",
      "3    364\n",
      "4    702\n",
      "5    374\n",
      "Name: count, dtype: int64\n"
     ]
    }
   ],
   "source": [
    "#Distribución por BI-RADS (assesment): sistema de categorización del riesgo de cáncer de mama.\n",
    "\n",
    "print(\"Distribución del BI-RADS (assessment) en calcificaciones:\")\n",
    "print(calc['assessment'].value_counts().sort_index())\n",
    "\n",
    "print(\"\\nDistribución del BI-RADS (assessment) en masas:\")\n",
    "print(mass['assessment'].value_counts().sort_index())"
   ]
  },
  {
   "cell_type": "code",
   "execution_count": 131,
   "id": "ac99722b",
   "metadata": {},
   "outputs": [
    {
     "name": "stdout",
     "output_type": "stream",
     "text": [
      "Calc_pathology: ['MALIGNANT' 'BENIGN' 'BENIGN_WITHOUT_CALLBACK']\n",
      "Mass_pathology: ['MALIGNANT' 'BENIGN' 'BENIGN_WITHOUT_CALLBACK']\n"
     ]
    }
   ],
   "source": [
    "print(\"Calc_pathology:\", calc['pathology'].unique())\n",
    "print(\"Mass_pathology:\", mass['pathology'].unique())"
   ]
  },
  {
   "cell_type": "code",
   "execution_count": 132,
   "id": "770d6e75",
   "metadata": {},
   "outputs": [
    {
     "name": "stdout",
     "output_type": "stream",
     "text": [
      "pathology\n",
      "MALIGNANT                  673\n",
      "BENIGN                     658\n",
      "BENIGN_WITHOUT_CALLBACK    541\n",
      "Name: count, dtype: int64\n",
      "pathology\n",
      "MALIGNANT                  784\n",
      "BENIGN                     771\n",
      "BENIGN_WITHOUT_CALLBACK    141\n",
      "Name: count, dtype: int64\n"
     ]
    }
   ],
   "source": [
    "#Distribución por patología:\n",
    "print(calc['pathology'].value_counts())\n",
    "print(mass['pathology'].value_counts())\n"
   ]
  },
  {
   "cell_type": "code",
   "execution_count": 133,
   "id": "dc9ad4b0",
   "metadata": {},
   "outputs": [
    {
     "name": "stdout",
     "output_type": "stream",
     "text": [
      "left_or_right_breast\n",
      "LEFT     1002\n",
      "RIGHT     870\n",
      "Name: count, dtype: int64\n",
      "left_or_right_breast\n",
      "RIGHT    879\n",
      "LEFT     817\n",
      "Name: count, dtype: int64\n"
     ]
    }
   ],
   "source": [
    "#Distribución por lateralidad de pecho:\n",
    "print(calc['left_or_right_breast'].value_counts())\n",
    "print(mass['left_or_right_breast'].value_counts())\n"
   ]
  },
  {
   "cell_type": "code",
   "execution_count": 134,
   "id": "f07f63e1",
   "metadata": {},
   "outputs": [
    {
     "name": "stdout",
     "output_type": "stream",
     "text": [
      "image_view\n",
      "MLO    984\n",
      "CC     888\n",
      "Name: count, dtype: int64\n",
      "image_view\n",
      "MLO    912\n",
      "CC     784\n",
      "Name: count, dtype: int64\n"
     ]
    }
   ],
   "source": [
    "#Distribución por tipo de vista:\n",
    "print(calc['image_view'].value_counts())\n",
    "print(mass['image_view'].value_counts())\n"
   ]
  },
  {
   "cell_type": "code",
   "execution_count": 135,
   "id": "c519cb77",
   "metadata": {},
   "outputs": [
    {
     "data": {
      "image/png": "[encoded data removed]",
      "text/plain": [
       "<Figure size 640x480 with 1 Axes>"
      ]
     },
     "metadata": {},
     "output_type": "display_data"
    },
    {
     "data": {
      "image/png": "[encoded data removed]",
      "text/plain": [
       "<Figure size 640x480 with 1 Axes>"
      ]
     },
     "metadata": {},
     "output_type": "display_data"
    }
   ],
   "source": [
    "#Visualización vista-patología\n",
    "import seaborn as sns\n",
    "import matplotlib.pyplot as plt\n",
    "\n",
    "sns.countplot(data=calc, x='pathology', hue='image_view')\n",
    "plt.title(\"Calcificaciones por tipo de patología y vista\")\n",
    "plt.show()\n",
    "\n",
    "sns.countplot(data=mass, x='pathology', hue='image_view')\n",
    "plt.title(\"Masas por tipo de patología y vista\")\n",
    "plt.show()\n"
   ]
  },
  {
   "cell_type": "code",
   "execution_count": 136,
   "id": "81bf3b9c",
   "metadata": {},
   "outputs": [
    {
     "name": "stdout",
     "output_type": "stream",
     "text": [
      "Calcificaciones:\n",
      "pathology   BENIGN  BENIGN_WITHOUT_CALLBACK  MALIGNANT\n",
      "assessment                                            \n",
      "0               39                        0         37\n",
      "2               18                      534          1\n",
      "3               56                        4         53\n",
      "4              543                        3        385\n",
      "5                2                        0        197\n",
      "\n",
      "Masas:\n",
      "pathology   BENIGN  BENIGN_WITHOUT_CALLBACK  MALIGNANT\n",
      "assessment                                            \n",
      "0              140                        0         22\n",
      "1                0                        0          3\n",
      "2               31                       59          1\n",
      "3              247                       68         49\n",
      "4              344                       12        346\n",
      "5                9                        2        363\n"
     ]
    }
   ],
   "source": [
    "#Relación entre Assesment y patología:\n",
    "print(\"Calcificaciones:\")\n",
    "print(pd.crosstab(calc['assessment'], calc['pathology']))\n",
    "\n",
    "print(\"\\nMasas:\")\n",
    "print(pd.crosstab(mass['assessment'], mass['pathology']))"
   ]
  },
  {
   "cell_type": "markdown",
   "id": "337127c8",
   "metadata": {},
   "source": [
    "Conclusiones generales:\n",
    "Correlación fuerte entre assessment y malignidad:\n",
    "\n",
    "A medida que assessment aumenta (de 0 a 5), la proporción de casos malignos también aumenta de manera significativa, especialmente en assessment = 4 y assessment = 5.\n",
    "\n",
    "Casos atípicos y \"no evaluados\" (assessment = 0):\n",
    "\n",
    "En ambos datasets (calcificaciones y masas), el valor 0 tiene una cantidad considerable de casos malignos, lo que sugiere que algunos casos no han sido evaluados correctamente o se encuentran en un estado intermedio.\n",
    "\n",
    "BENIGN_WITHOUT_CALLBACK predominante en niveles bajos de assessment:\n",
    "\n",
    "Para los niveles assessment = 2 y 3, hay una alta proporción de casos BENIGN_WITHOUT_CALLBACK, lo que indica que estos casos no requieren seguimiento adicional.\n",
    "\n",
    "Distribución esperada para BI-RADS:\n",
    "\n",
    "Los niveles 4 y 5 muestran una clara tendencia hacia MALIGNANT, lo cual es consistente con el sistema de clasificación BI-RADS, donde estos niveles indican un alto riesgo de cáncer."
   ]
  },
  {
   "cell_type": "code",
   "execution_count": 137,
   "id": "aa9c1adb",
   "metadata": {},
   "outputs": [
    {
     "data": {
      "image/png": "[encoded data removed]",
      "text/plain": [
       "<Figure size 1200x600 with 2 Axes>"
      ]
     },
     "metadata": {},
     "output_type": "display_data"
    }
   ],
   "source": [
    "#Diferencia BiRads entre Calc y Mass\n",
    "\n",
    "# Analizar distribuciones de BI-RADS (assessment) para calcificaciones y masas\n",
    "calc_assessment_dist = calc['assessment'].value_counts().sort_index()\n",
    "mass_assessment_dist = mass['assessment'].value_counts().sort_index()\n",
    "\n",
    "# Visualizar distribuciones de BI-RADS\n",
    "plt.figure(figsize=(12, 6))\n",
    "plt.subplot(1, 2, 1)\n",
    "calc_assessment_dist.plot(kind='bar', color='skyblue')\n",
    "plt.title(\"Distribución de BI-RADS (Calcificaciones)\")\n",
    "plt.xlabel(\"Assessment (BI-RADS)\")\n",
    "plt.ylabel(\"Número de Casos\")\n",
    "plt.xticks(rotation=0)\n",
    "\n",
    "plt.subplot(1, 2, 2)\n",
    "mass_assessment_dist.plot(kind='bar', color='lightgreen')\n",
    "plt.title(\"Distribución de BI-RADS (Masas)\")\n",
    "plt.xlabel(\"Assessment (BI-RADS)\")\n",
    "plt.ylabel(\"Número de Casos\")\n",
    "plt.xticks(rotation=0)\n",
    "\n",
    "plt.tight_layout()\n",
    "plt.show()"
   ]
  },
  {
   "cell_type": "code",
   "execution_count": 138,
   "id": "423086d7",
   "metadata": {},
   "outputs": [
    {
     "name": "stdout",
     "output_type": "stream",
     "text": [
      "Desbalance de clases en Pathology (Calcificaciones):\n",
      "pathology\n",
      "MALIGNANT                  673\n",
      "BENIGN                     658\n",
      "BENIGN_WITHOUT_CALLBACK    541\n",
      "Name: count, dtype: int64\n",
      "\n",
      "Desbalance de clases en Pathology (Masas):\n",
      "pathology\n",
      "MALIGNANT                  784\n",
      "BENIGN                     771\n",
      "BENIGN_WITHOUT_CALLBACK    141\n",
      "Name: count, dtype: int64\n"
     ]
    },
    {
     "data": {
      "image/png": "[encoded data removed]",
      "text/plain": [
       "<Figure size 1200x600 with 2 Axes>"
      ]
     },
     "metadata": {},
     "output_type": "display_data"
    }
   ],
   "source": [
    "#Comparativa patología:\n",
    "\n",
    "# Calcular la distribución de las clases de 'pathology' para calcificaciones y masas\n",
    "calc_pathology_dist = calc['pathology'].value_counts()\n",
    "mass_pathology_dist = mass['pathology'].value_counts()\n",
    "\n",
    "# Mostrar las cifras del desbalance de clases\n",
    "print(\"Desbalance de clases en Pathology (Calcificaciones):\")\n",
    "print(calc_pathology_dist)\n",
    "\n",
    "print(\"\\nDesbalance de clases en Pathology (Masas):\")\n",
    "print(mass_pathology_dist)\n",
    "\n",
    "\n",
    "#visualización\n",
    "\n",
    "# Comparar la distribución de pathology para calcificaciones y masas\n",
    "calc_pathology_dist = calc['pathology'].value_counts()\n",
    "mass_pathology_dist = mass['pathology'].value_counts()\n",
    "\n",
    "# Visualizar distribuciones de pathology\n",
    "plt.figure(figsize=(12, 6))\n",
    "plt.subplot(1, 2, 1)\n",
    "calc_pathology_dist.plot(kind='bar', color='lightcoral')\n",
    "plt.title(\"Distribución de Pathology (Calcificaciones)\")\n",
    "plt.xlabel(\"Pathology\")\n",
    "plt.ylabel(\"Número de Casos\")\n",
    "plt.xticks(rotation=0)\n",
    "\n",
    "plt.subplot(1, 2, 2)\n",
    "mass_pathology_dist.plot(kind='bar', color='lightblue')\n",
    "plt.title(\"Distribución de Pathology (Masas)\")\n",
    "plt.xlabel(\"Pathology\")\n",
    "plt.ylabel(\"Número de Casos\")\n",
    "plt.xticks(rotation=0)\n",
    "\n",
    "plt.tight_layout()\n",
    "plt.show()\n"
   ]
  },
  {
   "cell_type": "markdown",
   "id": "966a4716",
   "metadata": {},
   "source": [
    "Comprobar si las imágenes existen o si están correptas"
   ]
  },
  {
   "cell_type": "code",
   "execution_count": 139,
   "id": "2a88f3c1",
   "metadata": {},
   "outputs": [],
   "source": [
    "def find_corrupt_images(df, cols=['image_file_path', 'cropped_image_file_path', 'roi_mask_file_path']):\n",
    "    corrupt_report = []\n",
    "\n",
    "    for col in cols:\n",
    "        print(f\"\\n🔍 Verificando columna: {col}\")\n",
    "        for idx, path in df[col].items():\n",
    "            if not path or not os.path.exists(path):\n",
    "                print(f\"❌ Ruta inexistente en índice {idx}: {path}\")\n",
    "                corrupt_report.append((idx, col, path, 'Ruta inexistente'))\n",
    "                continue\n",
    "\n",
    "            try:\n",
    "                with Image.open(path) as img:\n",
    "                    img.load()\n",
    "            except Exception as e:\n",
    "                print(f\"❌ Imagen corrupta en índice {idx}: {path} — Error: {e}\")\n",
    "                corrupt_report.append((idx, col, path, str(e)))\n",
    "\n",
    "    if corrupt_report:\n",
    "        print(f\"\\n⚠️ Se encontraron {len(corrupt_report)} errores en imágenes.\")\n",
    "    else:\n",
    "        print(\"\\n✅ Todas las imágenes están en buen estado.\")\n",
    "    \n",
    "    return corrupt_report\n"
   ]
  },
  {
   "cell_type": "code",
   "execution_count": 140,
   "id": "17a5b775",
   "metadata": {},
   "outputs": [
    {
     "name": "stdout",
     "output_type": "stream",
     "text": [
      "\n",
      "🔍 Verificando columna: image_file_path\n",
      "❌ Ruta inexistente en índice 1546: None\n",
      "❌ Ruta inexistente en índice 1547: None\n",
      "❌ Ruta inexistente en índice 1548: None\n",
      "❌ Ruta inexistente en índice 1549: None\n",
      "❌ Ruta inexistente en índice 1550: None\n",
      "❌ Ruta inexistente en índice 1551: None\n",
      "❌ Ruta inexistente en índice 1552: None\n",
      "❌ Ruta inexistente en índice 1553: None\n",
      "❌ Ruta inexistente en índice 1554: None\n",
      "❌ Ruta inexistente en índice 1555: None\n",
      "❌ Ruta inexistente en índice 1556: None\n",
      "❌ Ruta inexistente en índice 1557: None\n",
      "❌ Ruta inexistente en índice 1558: None\n",
      "❌ Ruta inexistente en índice 1559: None\n",
      "❌ Ruta inexistente en índice 1560: None\n",
      "❌ Ruta inexistente en índice 1561: None\n",
      "❌ Ruta inexistente en índice 1562: None\n",
      "❌ Ruta inexistente en índice 1563: None\n",
      "❌ Ruta inexistente en índice 1564: None\n",
      "❌ Ruta inexistente en índice 1565: None\n",
      "❌ Ruta inexistente en índice 1566: None\n",
      "❌ Ruta inexistente en índice 1567: None\n",
      "❌ Ruta inexistente en índice 1568: None\n",
      "❌ Ruta inexistente en índice 1569: None\n",
      "❌ Ruta inexistente en índice 1570: None\n",
      "❌ Ruta inexistente en índice 1571: None\n",
      "❌ Ruta inexistente en índice 1572: None\n",
      "❌ Ruta inexistente en índice 1575: None\n",
      "❌ Ruta inexistente en índice 1576: None\n",
      "❌ Ruta inexistente en índice 1577: None\n",
      "❌ Ruta inexistente en índice 1578: None\n",
      "❌ Ruta inexistente en índice 1579: None\n",
      "❌ Ruta inexistente en índice 1580: None\n",
      "❌ Ruta inexistente en índice 1581: None\n",
      "❌ Ruta inexistente en índice 1582: None\n",
      "❌ Ruta inexistente en índice 1583: None\n",
      "❌ Ruta inexistente en índice 1584: None\n",
      "❌ Ruta inexistente en índice 1585: None\n",
      "❌ Ruta inexistente en índice 1586: None\n",
      "❌ Ruta inexistente en índice 1587: None\n",
      "❌ Ruta inexistente en índice 1588: None\n",
      "❌ Ruta inexistente en índice 1589: None\n",
      "❌ Ruta inexistente en índice 1590: None\n",
      "❌ Ruta inexistente en índice 1591: None\n",
      "❌ Ruta inexistente en índice 1592: None\n",
      "❌ Ruta inexistente en índice 1593: None\n",
      "❌ Ruta inexistente en índice 1594: None\n",
      "❌ Ruta inexistente en índice 1595: None\n",
      "❌ Ruta inexistente en índice 1596: None\n",
      "❌ Ruta inexistente en índice 1597: None\n",
      "❌ Ruta inexistente en índice 1598: None\n",
      "❌ Ruta inexistente en índice 1599: None\n",
      "❌ Ruta inexistente en índice 1600: None\n",
      "❌ Ruta inexistente en índice 1602: None\n",
      "❌ Ruta inexistente en índice 1603: None\n",
      "❌ Ruta inexistente en índice 1604: None\n",
      "❌ Ruta inexistente en índice 1605: None\n",
      "❌ Ruta inexistente en índice 1606: None\n",
      "❌ Ruta inexistente en índice 1607: None\n",
      "❌ Ruta inexistente en índice 1608: None\n",
      "❌ Ruta inexistente en índice 1609: None\n",
      "❌ Ruta inexistente en índice 1610: None\n",
      "❌ Ruta inexistente en índice 1611: None\n",
      "❌ Ruta inexistente en índice 1612: None\n",
      "❌ Ruta inexistente en índice 1613: None\n",
      "❌ Ruta inexistente en índice 1616: None\n",
      "❌ Ruta inexistente en índice 1617: None\n",
      "❌ Ruta inexistente en índice 1618: None\n",
      "❌ Ruta inexistente en índice 1619: None\n",
      "❌ Ruta inexistente en índice 1620: None\n",
      "❌ Ruta inexistente en índice 1621: None\n",
      "❌ Ruta inexistente en índice 1622: None\n",
      "❌ Ruta inexistente en índice 1630: None\n",
      "❌ Ruta inexistente en índice 1631: None\n",
      "❌ Ruta inexistente en índice 1632: None\n",
      "❌ Ruta inexistente en índice 1633: None\n",
      "❌ Ruta inexistente en índice 1634: None\n",
      "❌ Ruta inexistente en índice 1635: None\n",
      "❌ Ruta inexistente en índice 1636: None\n",
      "❌ Ruta inexistente en índice 1637: None\n",
      "❌ Ruta inexistente en índice 1638: None\n",
      "❌ Ruta inexistente en índice 1639: None\n",
      "❌ Ruta inexistente en índice 1640: None\n",
      "❌ Ruta inexistente en índice 1643: None\n",
      "❌ Ruta inexistente en índice 1644: None\n",
      "❌ Ruta inexistente en índice 1645: None\n",
      "❌ Ruta inexistente en índice 1646: None\n",
      "❌ Ruta inexistente en índice 1648: None\n",
      "❌ Ruta inexistente en índice 1649: None\n",
      "❌ Ruta inexistente en índice 1650: None\n",
      "❌ Ruta inexistente en índice 1651: None\n",
      "❌ Ruta inexistente en índice 1653: None\n",
      "❌ Ruta inexistente en índice 1655: None\n",
      "❌ Ruta inexistente en índice 1656: None\n",
      "❌ Ruta inexistente en índice 1657: None\n",
      "❌ Ruta inexistente en índice 1658: None\n",
      "❌ Ruta inexistente en índice 1659: None\n",
      "❌ Ruta inexistente en índice 1661: None\n",
      "❌ Ruta inexistente en índice 1663: None\n",
      "❌ Ruta inexistente en índice 1664: None\n",
      "❌ Ruta inexistente en índice 1665: None\n",
      "❌ Ruta inexistente en índice 1666: None\n",
      "❌ Ruta inexistente en índice 1668: None\n",
      "❌ Ruta inexistente en índice 1669: None\n",
      "❌ Ruta inexistente en índice 1670: None\n",
      "❌ Ruta inexistente en índice 1671: None\n",
      "❌ Ruta inexistente en índice 1672: None\n",
      "❌ Ruta inexistente en índice 1674: None\n",
      "❌ Ruta inexistente en índice 1675: None\n",
      "❌ Ruta inexistente en índice 1677: None\n",
      "❌ Ruta inexistente en índice 1678: None\n",
      "❌ Ruta inexistente en índice 1679: None\n",
      "❌ Ruta inexistente en índice 1680: None\n",
      "❌ Ruta inexistente en índice 1681: None\n",
      "❌ Ruta inexistente en índice 1682: None\n",
      "❌ Ruta inexistente en índice 1683: None\n",
      "❌ Ruta inexistente en índice 1684: None\n",
      "❌ Ruta inexistente en índice 1685: None\n",
      "❌ Ruta inexistente en índice 1687: None\n",
      "❌ Ruta inexistente en índice 1688: None\n",
      "❌ Ruta inexistente en índice 1689: None\n",
      "❌ Ruta inexistente en índice 1690: None\n",
      "❌ Ruta inexistente en índice 1691: None\n",
      "❌ Ruta inexistente en índice 1692: None\n",
      "❌ Ruta inexistente en índice 1694: None\n",
      "❌ Ruta inexistente en índice 1695: None\n",
      "❌ Ruta inexistente en índice 1696: None\n",
      "❌ Ruta inexistente en índice 1697: None\n",
      "❌ Ruta inexistente en índice 1698: None\n",
      "❌ Ruta inexistente en índice 1699: None\n",
      "❌ Ruta inexistente en índice 1700: None\n",
      "❌ Ruta inexistente en índice 1701: None\n",
      "❌ Ruta inexistente en índice 1702: None\n",
      "❌ Ruta inexistente en índice 1703: None\n",
      "❌ Ruta inexistente en índice 1704: None\n",
      "❌ Ruta inexistente en índice 1705: None\n",
      "❌ Ruta inexistente en índice 1706: None\n",
      "❌ Ruta inexistente en índice 1707: None\n",
      "❌ Ruta inexistente en índice 1708: None\n",
      "❌ Ruta inexistente en índice 1709: None\n",
      "❌ Ruta inexistente en índice 1710: None\n",
      "❌ Ruta inexistente en índice 1711: None\n",
      "❌ Ruta inexistente en índice 1712: None\n",
      "❌ Ruta inexistente en índice 1714: None\n",
      "❌ Ruta inexistente en índice 1715: None\n",
      "❌ Ruta inexistente en índice 1716: None\n",
      "❌ Ruta inexistente en índice 1717: None\n",
      "❌ Ruta inexistente en índice 1718: None\n",
      "❌ Ruta inexistente en índice 1719: None\n",
      "❌ Ruta inexistente en índice 1720: None\n",
      "❌ Ruta inexistente en índice 1721: None\n",
      "❌ Ruta inexistente en índice 1722: None\n",
      "❌ Ruta inexistente en índice 1723: None\n",
      "❌ Ruta inexistente en índice 1724: None\n",
      "❌ Ruta inexistente en índice 1726: None\n",
      "❌ Ruta inexistente en índice 1727: None\n",
      "❌ Ruta inexistente en índice 1728: None\n",
      "❌ Ruta inexistente en índice 1729: None\n",
      "❌ Ruta inexistente en índice 1730: None\n",
      "❌ Ruta inexistente en índice 1731: None\n",
      "❌ Ruta inexistente en índice 1732: None\n",
      "❌ Ruta inexistente en índice 1734: None\n",
      "❌ Ruta inexistente en índice 1736: None\n",
      "❌ Ruta inexistente en índice 1737: None\n",
      "❌ Ruta inexistente en índice 1738: None\n",
      "❌ Ruta inexistente en índice 1740: None\n",
      "❌ Ruta inexistente en índice 1741: None\n",
      "❌ Ruta inexistente en índice 1742: None\n",
      "❌ Ruta inexistente en índice 1743: None\n",
      "❌ Ruta inexistente en índice 1744: None\n",
      "❌ Ruta inexistente en índice 1745: None\n",
      "❌ Ruta inexistente en índice 1746: None\n",
      "❌ Ruta inexistente en índice 1747: None\n",
      "❌ Ruta inexistente en índice 1748: None\n",
      "❌ Ruta inexistente en índice 1749: None\n",
      "❌ Ruta inexistente en índice 1750: None\n",
      "❌ Ruta inexistente en índice 1751: None\n",
      "❌ Ruta inexistente en índice 1752: None\n",
      "❌ Ruta inexistente en índice 1753: None\n",
      "❌ Ruta inexistente en índice 1754: None\n",
      "❌ Ruta inexistente en índice 1755: None\n",
      "❌ Ruta inexistente en índice 1756: None\n",
      "❌ Ruta inexistente en índice 1757: None\n",
      "❌ Ruta inexistente en índice 1758: None\n",
      "❌ Ruta inexistente en índice 1759: None\n",
      "❌ Ruta inexistente en índice 1760: None\n",
      "❌ Ruta inexistente en índice 1761: None\n",
      "❌ Ruta inexistente en índice 1762: None\n",
      "❌ Ruta inexistente en índice 1763: None\n",
      "❌ Ruta inexistente en índice 1764: None\n",
      "❌ Ruta inexistente en índice 1766: None\n",
      "❌ Ruta inexistente en índice 1767: None\n",
      "❌ Ruta inexistente en índice 1768: None\n",
      "❌ Ruta inexistente en índice 1769: None\n",
      "❌ Ruta inexistente en índice 1770: None\n",
      "❌ Ruta inexistente en índice 1771: None\n",
      "❌ Ruta inexistente en índice 1772: None\n",
      "❌ Ruta inexistente en índice 1773: None\n",
      "❌ Ruta inexistente en índice 1774: None\n",
      "❌ Ruta inexistente en índice 1775: None\n",
      "❌ Ruta inexistente en índice 1776: None\n",
      "❌ Ruta inexistente en índice 1777: None\n",
      "❌ Ruta inexistente en índice 1778: None\n",
      "❌ Ruta inexistente en índice 1779: None\n",
      "❌ Ruta inexistente en índice 1780: None\n",
      "❌ Ruta inexistente en índice 1782: None\n",
      "❌ Ruta inexistente en índice 1783: None\n",
      "❌ Ruta inexistente en índice 1784: None\n",
      "❌ Ruta inexistente en índice 1785: None\n",
      "❌ Ruta inexistente en índice 1786: None\n",
      "❌ Ruta inexistente en índice 1787: None\n",
      "❌ Ruta inexistente en índice 1788: None\n",
      "❌ Ruta inexistente en índice 1789: None\n",
      "❌ Ruta inexistente en índice 1790: None\n",
      "❌ Ruta inexistente en índice 1791: None\n",
      "❌ Ruta inexistente en índice 1792: None\n",
      "❌ Ruta inexistente en índice 1793: None\n",
      "❌ Ruta inexistente en índice 1794: None\n",
      "❌ Ruta inexistente en índice 1795: None\n",
      "❌ Ruta inexistente en índice 1796: None\n",
      "❌ Ruta inexistente en índice 1797: None\n",
      "❌ Ruta inexistente en índice 1798: None\n",
      "❌ Ruta inexistente en índice 1799: None\n",
      "❌ Ruta inexistente en índice 1800: None\n",
      "❌ Ruta inexistente en índice 1801: None\n",
      "❌ Ruta inexistente en índice 1802: None\n",
      "❌ Ruta inexistente en índice 1803: None\n",
      "❌ Ruta inexistente en índice 1805: None\n",
      "❌ Ruta inexistente en índice 1806: None\n",
      "❌ Ruta inexistente en índice 1808: None\n",
      "❌ Ruta inexistente en índice 1809: None\n",
      "❌ Ruta inexistente en índice 1813: None\n",
      "❌ Ruta inexistente en índice 1814: None\n",
      "❌ Ruta inexistente en índice 1815: None\n",
      "❌ Ruta inexistente en índice 1816: None\n",
      "❌ Ruta inexistente en índice 1817: None\n",
      "❌ Ruta inexistente en índice 1818: None\n",
      "❌ Ruta inexistente en índice 1819: None\n",
      "❌ Ruta inexistente en índice 1820: None\n",
      "❌ Ruta inexistente en índice 1821: None\n",
      "❌ Ruta inexistente en índice 1824: None\n",
      "❌ Ruta inexistente en índice 1825: None\n",
      "❌ Ruta inexistente en índice 1826: None\n",
      "❌ Ruta inexistente en índice 1828: None\n",
      "❌ Ruta inexistente en índice 1829: None\n",
      "❌ Ruta inexistente en índice 1830: None\n",
      "❌ Ruta inexistente en índice 1831: None\n",
      "❌ Ruta inexistente en índice 1832: None\n",
      "❌ Ruta inexistente en índice 1834: None\n",
      "❌ Ruta inexistente en índice 1835: None\n",
      "❌ Ruta inexistente en índice 1836: None\n",
      "❌ Ruta inexistente en índice 1837: None\n",
      "❌ Ruta inexistente en índice 1838: None\n",
      "❌ Ruta inexistente en índice 1839: None\n",
      "❌ Ruta inexistente en índice 1840: None\n",
      "❌ Ruta inexistente en índice 1841: None\n",
      "❌ Ruta inexistente en índice 1844: None\n",
      "❌ Ruta inexistente en índice 1845: None\n",
      "❌ Ruta inexistente en índice 1846: None\n",
      "❌ Ruta inexistente en índice 1847: None\n",
      "❌ Ruta inexistente en índice 1848: None\n",
      "❌ Ruta inexistente en índice 1849: None\n",
      "❌ Ruta inexistente en índice 1850: None\n",
      "❌ Ruta inexistente en índice 1851: None\n",
      "❌ Ruta inexistente en índice 1852: None\n",
      "❌ Ruta inexistente en índice 1853: None\n",
      "❌ Ruta inexistente en índice 1854: None\n",
      "❌ Ruta inexistente en índice 1855: None\n",
      "❌ Ruta inexistente en índice 1856: None\n",
      "❌ Ruta inexistente en índice 1857: None\n",
      "❌ Ruta inexistente en índice 1858: None\n",
      "❌ Ruta inexistente en índice 1859: None\n",
      "❌ Ruta inexistente en índice 1861: None\n",
      "❌ Ruta inexistente en índice 1862: None\n",
      "❌ Ruta inexistente en índice 1863: None\n",
      "❌ Ruta inexistente en índice 1864: None\n",
      "❌ Ruta inexistente en índice 1865: None\n",
      "❌ Ruta inexistente en índice 1866: None\n",
      "❌ Ruta inexistente en índice 1867: None\n",
      "❌ Ruta inexistente en índice 1868: None\n",
      "❌ Ruta inexistente en índice 1869: None\n",
      "❌ Ruta inexistente en índice 1871: None\n",
      "\n",
      "🔍 Verificando columna: cropped_image_file_path\n",
      "❌ Ruta inexistente en índice 344: None\n",
      "❌ Ruta inexistente en índice 1216: None\n",
      "\n",
      "🔍 Verificando columna: roi_mask_file_path\n",
      "❌ Ruta inexistente en índice 344: None\n",
      "❌ Ruta inexistente en índice 1216: None\n",
      "❌ Ruta inexistente en índice 1546: None\n",
      "❌ Ruta inexistente en índice 1547: None\n",
      "❌ Ruta inexistente en índice 1548: None\n",
      "❌ Ruta inexistente en índice 1549: None\n",
      "❌ Ruta inexistente en índice 1550: None\n",
      "❌ Ruta inexistente en índice 1551: None\n",
      "❌ Ruta inexistente en índice 1552: None\n",
      "❌ Ruta inexistente en índice 1553: None\n",
      "❌ Ruta inexistente en índice 1554: None\n",
      "❌ Ruta inexistente en índice 1555: None\n",
      "❌ Ruta inexistente en índice 1556: None\n",
      "❌ Ruta inexistente en índice 1557: None\n",
      "❌ Ruta inexistente en índice 1558: None\n",
      "❌ Ruta inexistente en índice 1559: None\n",
      "❌ Ruta inexistente en índice 1560: None\n",
      "❌ Ruta inexistente en índice 1561: None\n",
      "❌ Ruta inexistente en índice 1562: None\n",
      "❌ Ruta inexistente en índice 1563: None\n",
      "❌ Ruta inexistente en índice 1564: None\n",
      "❌ Ruta inexistente en índice 1565: None\n",
      "❌ Ruta inexistente en índice 1566: None\n",
      "❌ Ruta inexistente en índice 1567: None\n",
      "❌ Ruta inexistente en índice 1568: None\n",
      "❌ Ruta inexistente en índice 1569: None\n",
      "❌ Ruta inexistente en índice 1570: None\n",
      "❌ Ruta inexistente en índice 1571: None\n",
      "❌ Ruta inexistente en índice 1572: None\n",
      "❌ Ruta inexistente en índice 1573: None\n",
      "❌ Ruta inexistente en índice 1574: None\n",
      "❌ Ruta inexistente en índice 1575: None\n",
      "❌ Ruta inexistente en índice 1576: None\n",
      "❌ Ruta inexistente en índice 1577: None\n",
      "❌ Ruta inexistente en índice 1578: None\n",
      "❌ Ruta inexistente en índice 1579: None\n",
      "❌ Ruta inexistente en índice 1580: None\n",
      "❌ Ruta inexistente en índice 1581: None\n",
      "❌ Ruta inexistente en índice 1582: None\n",
      "❌ Ruta inexistente en índice 1583: None\n",
      "❌ Ruta inexistente en índice 1584: None\n",
      "❌ Ruta inexistente en índice 1585: None\n",
      "❌ Ruta inexistente en índice 1586: None\n",
      "❌ Ruta inexistente en índice 1587: None\n",
      "❌ Ruta inexistente en índice 1588: None\n",
      "❌ Ruta inexistente en índice 1589: None\n",
      "❌ Ruta inexistente en índice 1590: None\n",
      "❌ Ruta inexistente en índice 1591: None\n",
      "❌ Ruta inexistente en índice 1592: None\n",
      "❌ Ruta inexistente en índice 1593: None\n",
      "❌ Ruta inexistente en índice 1594: None\n",
      "❌ Ruta inexistente en índice 1595: None\n",
      "❌ Ruta inexistente en índice 1596: None\n",
      "❌ Ruta inexistente en índice 1597: None\n",
      "❌ Ruta inexistente en índice 1599: None\n",
      "❌ Ruta inexistente en índice 1600: None\n",
      "❌ Ruta inexistente en índice 1601: None\n",
      "❌ Ruta inexistente en índice 1602: None\n",
      "❌ Ruta inexistente en índice 1603: None\n",
      "❌ Ruta inexistente en índice 1604: None\n",
      "❌ Ruta inexistente en índice 1605: None\n",
      "❌ Ruta inexistente en índice 1606: None\n",
      "❌ Ruta inexistente en índice 1607: None\n",
      "❌ Ruta inexistente en índice 1608: None\n",
      "❌ Ruta inexistente en índice 1609: None\n",
      "❌ Ruta inexistente en índice 1610: None\n",
      "❌ Ruta inexistente en índice 1611: None\n",
      "❌ Ruta inexistente en índice 1612: None\n",
      "❌ Ruta inexistente en índice 1613: None\n",
      "❌ Ruta inexistente en índice 1614: None\n",
      "❌ Ruta inexistente en índice 1615: None\n",
      "❌ Ruta inexistente en índice 1616: None\n",
      "❌ Ruta inexistente en índice 1617: None\n",
      "❌ Ruta inexistente en índice 1618: None\n",
      "❌ Ruta inexistente en índice 1619: None\n",
      "❌ Ruta inexistente en índice 1620: None\n",
      "❌ Ruta inexistente en índice 1621: None\n",
      "❌ Ruta inexistente en índice 1622: None\n",
      "❌ Ruta inexistente en índice 1623: None\n",
      "❌ Ruta inexistente en índice 1624: None\n",
      "❌ Ruta inexistente en índice 1625: None\n",
      "❌ Ruta inexistente en índice 1626: None\n",
      "❌ Ruta inexistente en índice 1628: None\n",
      "❌ Ruta inexistente en índice 1629: None\n",
      "❌ Ruta inexistente en índice 1630: None\n",
      "❌ Ruta inexistente en índice 1631: None\n",
      "❌ Ruta inexistente en índice 1632: None\n",
      "❌ Ruta inexistente en índice 1633: None\n",
      "❌ Ruta inexistente en índice 1634: None\n",
      "❌ Ruta inexistente en índice 1635: None\n",
      "❌ Ruta inexistente en índice 1636: None\n",
      "❌ Ruta inexistente en índice 1637: None\n",
      "❌ Ruta inexistente en índice 1638: None\n",
      "❌ Ruta inexistente en índice 1639: None\n",
      "❌ Ruta inexistente en índice 1640: None\n",
      "❌ Ruta inexistente en índice 1641: None\n",
      "❌ Ruta inexistente en índice 1642: None\n",
      "❌ Ruta inexistente en índice 1643: None\n",
      "❌ Ruta inexistente en índice 1644: None\n",
      "❌ Ruta inexistente en índice 1645: None\n",
      "❌ Ruta inexistente en índice 1646: None\n",
      "❌ Ruta inexistente en índice 1647: None\n",
      "❌ Ruta inexistente en índice 1648: None\n",
      "❌ Ruta inexistente en índice 1649: None\n",
      "❌ Ruta inexistente en índice 1650: None\n",
      "❌ Ruta inexistente en índice 1651: None\n",
      "❌ Ruta inexistente en índice 1652: None\n",
      "❌ Ruta inexistente en índice 1653: None\n",
      "❌ Ruta inexistente en índice 1654: None\n",
      "❌ Ruta inexistente en índice 1655: None\n",
      "❌ Ruta inexistente en índice 1656: None\n",
      "❌ Ruta inexistente en índice 1657: None\n",
      "❌ Ruta inexistente en índice 1658: None\n",
      "❌ Ruta inexistente en índice 1659: None\n",
      "❌ Ruta inexistente en índice 1660: None\n",
      "❌ Ruta inexistente en índice 1661: None\n",
      "❌ Ruta inexistente en índice 1662: None\n",
      "❌ Ruta inexistente en índice 1663: None\n",
      "❌ Ruta inexistente en índice 1664: None\n",
      "❌ Ruta inexistente en índice 1665: None\n",
      "❌ Ruta inexistente en índice 1666: None\n",
      "❌ Ruta inexistente en índice 1667: None\n",
      "❌ Ruta inexistente en índice 1668: None\n",
      "❌ Ruta inexistente en índice 1669: None\n",
      "❌ Ruta inexistente en índice 1670: None\n",
      "❌ Ruta inexistente en índice 1671: None\n",
      "❌ Ruta inexistente en índice 1672: None\n",
      "❌ Ruta inexistente en índice 1673: None\n",
      "❌ Ruta inexistente en índice 1674: None\n",
      "❌ Ruta inexistente en índice 1675: None\n",
      "❌ Ruta inexistente en índice 1676: None\n",
      "❌ Ruta inexistente en índice 1677: None\n",
      "❌ Ruta inexistente en índice 1678: None\n",
      "❌ Ruta inexistente en índice 1679: None\n",
      "❌ Ruta inexistente en índice 1680: None\n",
      "❌ Ruta inexistente en índice 1681: None\n",
      "❌ Ruta inexistente en índice 1682: None\n",
      "❌ Ruta inexistente en índice 1683: None\n",
      "❌ Ruta inexistente en índice 1684: None\n",
      "❌ Ruta inexistente en índice 1685: None\n",
      "❌ Ruta inexistente en índice 1686: None\n",
      "❌ Ruta inexistente en índice 1687: None\n",
      "❌ Ruta inexistente en índice 1688: None\n",
      "❌ Ruta inexistente en índice 1689: None\n",
      "❌ Ruta inexistente en índice 1690: None\n",
      "❌ Ruta inexistente en índice 1691: None\n",
      "❌ Ruta inexistente en índice 1692: None\n",
      "❌ Ruta inexistente en índice 1693: None\n",
      "❌ Ruta inexistente en índice 1694: None\n",
      "❌ Ruta inexistente en índice 1695: None\n",
      "❌ Ruta inexistente en índice 1696: None\n",
      "❌ Ruta inexistente en índice 1697: None\n",
      "❌ Ruta inexistente en índice 1698: None\n",
      "❌ Ruta inexistente en índice 1699: None\n",
      "❌ Ruta inexistente en índice 1700: None\n",
      "❌ Ruta inexistente en índice 1701: None\n",
      "❌ Ruta inexistente en índice 1702: None\n",
      "❌ Ruta inexistente en índice 1703: None\n",
      "❌ Ruta inexistente en índice 1704: None\n",
      "❌ Ruta inexistente en índice 1705: None\n",
      "❌ Ruta inexistente en índice 1706: None\n",
      "❌ Ruta inexistente en índice 1707: None\n",
      "❌ Ruta inexistente en índice 1708: None\n",
      "❌ Ruta inexistente en índice 1709: None\n",
      "❌ Ruta inexistente en índice 1710: None\n",
      "❌ Ruta inexistente en índice 1711: None\n",
      "❌ Ruta inexistente en índice 1712: None\n",
      "❌ Ruta inexistente en índice 1713: None\n",
      "❌ Ruta inexistente en índice 1714: None\n",
      "❌ Ruta inexistente en índice 1715: None\n",
      "❌ Ruta inexistente en índice 1716: None\n",
      "❌ Ruta inexistente en índice 1717: None\n",
      "❌ Ruta inexistente en índice 1718: None\n",
      "❌ Ruta inexistente en índice 1720: None\n",
      "❌ Ruta inexistente en índice 1721: None\n",
      "❌ Ruta inexistente en índice 1722: None\n",
      "❌ Ruta inexistente en índice 1723: None\n",
      "❌ Ruta inexistente en índice 1724: None\n",
      "❌ Ruta inexistente en índice 1725: None\n",
      "❌ Ruta inexistente en índice 1726: None\n",
      "❌ Ruta inexistente en índice 1727: None\n",
      "❌ Ruta inexistente en índice 1728: None\n",
      "❌ Ruta inexistente en índice 1729: None\n",
      "❌ Ruta inexistente en índice 1730: None\n",
      "❌ Ruta inexistente en índice 1731: None\n",
      "❌ Ruta inexistente en índice 1732: None\n",
      "❌ Ruta inexistente en índice 1733: None\n",
      "❌ Ruta inexistente en índice 1734: None\n",
      "❌ Ruta inexistente en índice 1735: None\n",
      "❌ Ruta inexistente en índice 1736: None\n",
      "❌ Ruta inexistente en índice 1737: None\n",
      "❌ Ruta inexistente en índice 1738: None\n",
      "❌ Ruta inexistente en índice 1739: None\n",
      "❌ Ruta inexistente en índice 1740: None\n",
      "❌ Ruta inexistente en índice 1741: None\n",
      "❌ Ruta inexistente en índice 1742: None\n",
      "❌ Ruta inexistente en índice 1744: None\n",
      "❌ Ruta inexistente en índice 1745: None\n",
      "❌ Ruta inexistente en índice 1746: None\n",
      "❌ Ruta inexistente en índice 1747: None\n",
      "❌ Ruta inexistente en índice 1748: None\n",
      "❌ Ruta inexistente en índice 1749: None\n",
      "❌ Ruta inexistente en índice 1751: None\n",
      "❌ Ruta inexistente en índice 1752: None\n",
      "❌ Ruta inexistente en índice 1753: None\n",
      "❌ Ruta inexistente en índice 1754: None\n",
      "❌ Ruta inexistente en índice 1755: None\n",
      "❌ Ruta inexistente en índice 1756: None\n",
      "❌ Ruta inexistente en índice 1757: None\n",
      "❌ Ruta inexistente en índice 1758: None\n",
      "❌ Ruta inexistente en índice 1759: None\n",
      "❌ Ruta inexistente en índice 1760: None\n",
      "❌ Ruta inexistente en índice 1761: None\n",
      "❌ Ruta inexistente en índice 1762: None\n",
      "❌ Ruta inexistente en índice 1763: None\n",
      "❌ Ruta inexistente en índice 1764: None\n",
      "❌ Ruta inexistente en índice 1765: None\n",
      "❌ Ruta inexistente en índice 1766: None\n",
      "❌ Ruta inexistente en índice 1767: None\n",
      "❌ Ruta inexistente en índice 1768: None\n",
      "❌ Ruta inexistente en índice 1769: None\n",
      "❌ Ruta inexistente en índice 1770: None\n",
      "❌ Ruta inexistente en índice 1771: None\n",
      "❌ Ruta inexistente en índice 1772: None\n",
      "❌ Ruta inexistente en índice 1773: None\n",
      "❌ Ruta inexistente en índice 1774: None\n",
      "❌ Ruta inexistente en índice 1775: None\n",
      "❌ Ruta inexistente en índice 1776: None\n",
      "❌ Ruta inexistente en índice 1777: None\n",
      "❌ Ruta inexistente en índice 1778: None\n",
      "❌ Ruta inexistente en índice 1779: None\n",
      "❌ Ruta inexistente en índice 1780: None\n",
      "❌ Ruta inexistente en índice 1781: None\n",
      "❌ Ruta inexistente en índice 1782: None\n",
      "❌ Ruta inexistente en índice 1783: None\n",
      "❌ Ruta inexistente en índice 1784: None\n",
      "❌ Ruta inexistente en índice 1785: None\n",
      "❌ Ruta inexistente en índice 1786: None\n",
      "❌ Ruta inexistente en índice 1787: None\n",
      "❌ Ruta inexistente en índice 1789: None\n",
      "❌ Ruta inexistente en índice 1790: None\n",
      "❌ Ruta inexistente en índice 1791: None\n",
      "❌ Ruta inexistente en índice 1792: None\n",
      "❌ Ruta inexistente en índice 1793: None\n",
      "❌ Ruta inexistente en índice 1794: None\n",
      "❌ Ruta inexistente en índice 1795: None\n",
      "❌ Ruta inexistente en índice 1796: None\n",
      "❌ Ruta inexistente en índice 1797: None\n",
      "❌ Ruta inexistente en índice 1798: None\n",
      "❌ Ruta inexistente en índice 1799: None\n",
      "❌ Ruta inexistente en índice 1800: None\n",
      "❌ Ruta inexistente en índice 1801: None\n",
      "❌ Ruta inexistente en índice 1802: None\n",
      "❌ Ruta inexistente en índice 1803: None\n",
      "❌ Ruta inexistente en índice 1804: None\n",
      "❌ Ruta inexistente en índice 1805: None\n",
      "❌ Ruta inexistente en índice 1806: None\n",
      "❌ Ruta inexistente en índice 1807: None\n",
      "❌ Ruta inexistente en índice 1808: None\n",
      "❌ Ruta inexistente en índice 1809: None\n",
      "❌ Ruta inexistente en índice 1810: None\n",
      "❌ Ruta inexistente en índice 1811: None\n",
      "❌ Ruta inexistente en índice 1812: None\n",
      "❌ Ruta inexistente en índice 1813: None\n",
      "❌ Ruta inexistente en índice 1814: None\n",
      "❌ Ruta inexistente en índice 1815: None\n",
      "❌ Ruta inexistente en índice 1816: None\n",
      "❌ Ruta inexistente en índice 1817: None\n",
      "❌ Ruta inexistente en índice 1818: None\n",
      "❌ Ruta inexistente en índice 1819: None\n",
      "❌ Ruta inexistente en índice 1820: None\n",
      "❌ Ruta inexistente en índice 1821: None\n",
      "❌ Ruta inexistente en índice 1822: None\n",
      "❌ Ruta inexistente en índice 1823: None\n",
      "❌ Ruta inexistente en índice 1824: None\n",
      "❌ Ruta inexistente en índice 1825: None\n",
      "❌ Ruta inexistente en índice 1826: None\n",
      "❌ Ruta inexistente en índice 1827: None\n",
      "❌ Ruta inexistente en índice 1828: None\n",
      "❌ Ruta inexistente en índice 1829: None\n",
      "❌ Ruta inexistente en índice 1830: None\n",
      "❌ Ruta inexistente en índice 1831: None\n",
      "❌ Ruta inexistente en índice 1832: None\n",
      "❌ Ruta inexistente en índice 1833: None\n",
      "❌ Ruta inexistente en índice 1834: None\n",
      "❌ Ruta inexistente en índice 1835: None\n",
      "❌ Ruta inexistente en índice 1836: None\n",
      "❌ Ruta inexistente en índice 1837: None\n",
      "❌ Ruta inexistente en índice 1838: None\n",
      "❌ Ruta inexistente en índice 1839: None\n",
      "❌ Ruta inexistente en índice 1840: None\n",
      "❌ Ruta inexistente en índice 1841: None\n",
      "❌ Ruta inexistente en índice 1842: None\n",
      "❌ Ruta inexistente en índice 1843: None\n",
      "❌ Ruta inexistente en índice 1844: None\n",
      "❌ Ruta inexistente en índice 1845: None\n",
      "❌ Ruta inexistente en índice 1846: None\n",
      "❌ Ruta inexistente en índice 1847: None\n",
      "❌ Ruta inexistente en índice 1848: None\n",
      "❌ Ruta inexistente en índice 1849: None\n",
      "❌ Ruta inexistente en índice 1850: None\n",
      "❌ Ruta inexistente en índice 1851: None\n",
      "❌ Ruta inexistente en índice 1852: None\n",
      "❌ Ruta inexistente en índice 1853: None\n",
      "❌ Ruta inexistente en índice 1854: None\n",
      "❌ Ruta inexistente en índice 1855: None\n",
      "❌ Ruta inexistente en índice 1856: None\n",
      "❌ Ruta inexistente en índice 1857: None\n",
      "❌ Ruta inexistente en índice 1858: None\n",
      "❌ Ruta inexistente en índice 1859: None\n",
      "❌ Ruta inexistente en índice 1860: None\n",
      "❌ Ruta inexistente en índice 1861: None\n",
      "❌ Ruta inexistente en índice 1862: None\n",
      "❌ Ruta inexistente en índice 1863: None\n",
      "❌ Ruta inexistente en índice 1864: None\n",
      "❌ Ruta inexistente en índice 1865: None\n",
      "❌ Ruta inexistente en índice 1866: None\n",
      "❌ Ruta inexistente en índice 1867: None\n",
      "❌ Ruta inexistente en índice 1868: None\n",
      "❌ Ruta inexistente en índice 1869: None\n",
      "❌ Ruta inexistente en índice 1870: None\n",
      "❌ Ruta inexistente en índice 1871: None\n",
      "\n",
      "⚠️ Se encontraron 606 errores en imágenes.\n",
      "\n",
      "🔍 Verificando columna: image_file_path\n",
      "\n",
      "🔍 Verificando columna: cropped_image_file_path\n",
      "\n",
      "🔍 Verificando columna: roi_mask_file_path\n",
      "\n",
      "✅ Todas las imágenes están en buen estado.\n"
     ]
    }
   ],
   "source": [
    "corrupt_calc = find_corrupt_images(calc)\n",
    "corrupt_mass = find_corrupt_images(mass)"
   ]
  },
  {
   "cell_type": "markdown",
   "id": "64e96870",
   "metadata": {},
   "source": [
    "Faltan 606 imágenes (\"None\", pero las que sí tiene ruta funcionan correctamente)"
   ]
  },
  {
   "cell_type": "code",
   "execution_count": 141,
   "id": "339a7cf4",
   "metadata": {},
   "outputs": [
    {
     "name": "stdout",
     "output_type": "stream",
     "text": [
      "Rutas faltantes en calc: 327\n",
      "Rutas faltantes en mass: 0\n"
     ]
    }
   ],
   "source": [
    "# Ver filas con al menos una ruta vacía, nula o con \"None\"\n",
    "missing_paths_calc = calc[calc[['image_file_path', 'cropped_image_file_path', 'roi_mask_file_path']].map(lambda x: pd.isnull(x) or x == \"None\").any(axis=1)]\n",
    "missing_paths_mass = mass[mass[['image_file_path', 'cropped_image_file_path', 'roi_mask_file_path']].map(lambda x: pd.isnull(x) or x == \"None\").any(axis=1)]\n",
    "\n",
    "print(\"Rutas faltantes en calc:\", missing_paths_calc.shape[0])\n",
    "print(\"Rutas faltantes en mass:\", missing_paths_mass.shape[0])\n"
   ]
  },
  {
   "cell_type": "code",
   "execution_count": 142,
   "id": "0fa67938",
   "metadata": {},
   "outputs": [
    {
     "name": "stdout",
     "output_type": "stream",
     "text": [
      "Detalles de rutas faltantes en calc:\n",
      "                                        image_file_path  \\\n",
      "344   C:/Users/swatc/Desktop/UNI/TFM/TFM/artifacts/d...   \n",
      "1216  C:/Users/swatc/Desktop/UNI/TFM/TFM/artifacts/d...   \n",
      "1546                                               None   \n",
      "1547                                               None   \n",
      "1548                                               None   \n",
      "...                                                 ...   \n",
      "1867                                               None   \n",
      "1868                                               None   \n",
      "1869                                               None   \n",
      "1870  C:/Users/swatc/Desktop/UNI/TFM/TFM/artifacts/d...   \n",
      "1871                                               None   \n",
      "\n",
      "                                cropped_image_file_path roi_mask_file_path  \n",
      "344                                                None               None  \n",
      "1216                                               None               None  \n",
      "1546  C:/Users/swatc/Desktop/UNI/TFM/TFM/artifacts/d...               None  \n",
      "1547  C:/Users/swatc/Desktop/UNI/TFM/TFM/artifacts/d...               None  \n",
      "1548  C:/Users/swatc/Desktop/UNI/TFM/TFM/artifacts/d...               None  \n",
      "...                                                 ...                ...  \n",
      "1867  C:/Users/swatc/Desktop/UNI/TFM/TFM/artifacts/d...               None  \n",
      "1868  C:/Users/swatc/Desktop/UNI/TFM/TFM/artifacts/d...               None  \n",
      "1869  C:/Users/swatc/Desktop/UNI/TFM/TFM/artifacts/d...               None  \n",
      "1870  C:/Users/swatc/Desktop/UNI/TFM/TFM/artifacts/d...               None  \n",
      "1871  C:/Users/swatc/Desktop/UNI/TFM/TFM/artifacts/d...               None  \n",
      "\n",
      "[327 rows x 3 columns]\n"
     ]
    }
   ],
   "source": [
    "# Mostrar las filas de calc donde faltan rutas\n",
    "missing_paths_calc_details = missing_paths_calc[['image_file_path', 'cropped_image_file_path', 'roi_mask_file_path']]\n",
    "\n",
    "# Opcional: Mostrar las primeras filas de los resultados para revisarlas\n",
    "print(\"Detalles de rutas faltantes en calc:\")\n",
    "print(missing_paths_calc_details)"
   ]
  },
  {
   "cell_type": "code",
   "execution_count": 143,
   "id": "4383df0b",
   "metadata": {},
   "outputs": [
    {
     "name": "stdout",
     "output_type": "stream",
     "text": [
      "Número de imágenes faltantes en cada columna:\n",
      "image_file_path            282\n",
      "cropped_image_file_path      2\n",
      "roi_mask_file_path         322\n",
      "dtype: int64\n",
      "\n",
      "Número de filas con 1, 2 o 3 valores faltantes:\n",
      "missing_count\n",
      "1     48\n",
      "2    279\n",
      "Name: count, dtype: int64\n"
     ]
    },
    {
     "name": "stderr",
     "output_type": "stream",
     "text": [
      "C:\\Users\\swatc\\AppData\\Local\\Temp\\ipykernel_4720\\2955709705.py:2: SettingWithCopyWarning: \n",
      "A value is trying to be set on a copy of a slice from a DataFrame.\n",
      "Try using .loc[row_indexer,col_indexer] = value instead\n",
      "\n",
      "See the caveats in the documentation: https://pandas.pydata.org/pandas-docs/stable/user_guide/indexing.html#returning-a-view-versus-a-copy\n",
      "  missing_paths_calc['missing_count'] = missing_paths_calc[['image_file_path', 'cropped_image_file_path', 'roi_mask_file_path']].apply(lambda row: row.isnull().sum() + (row == \"None\").sum(), axis=1)\n"
     ]
    }
   ],
   "source": [
    "# Crear una columna adicional para contar los valores faltantes por fila\n",
    "missing_paths_calc['missing_count'] = missing_paths_calc[['image_file_path', 'cropped_image_file_path', 'roi_mask_file_path']].apply(lambda row: row.isnull().sum() + (row == \"None\").sum(), axis=1)\n",
    "\n",
    "# Crear la tabla resumen (pivot) con el conteo de valores faltantes por cada columna\n",
    "pivot_table = missing_paths_calc[['image_file_path', 'cropped_image_file_path', 'roi_mask_file_path']].isnull().astype(int).sum()\n",
    "\n",
    "# Mostrar la tabla con el número de imágenes faltantes en cada columna\n",
    "print(\"Número de imágenes faltantes en cada columna:\")\n",
    "print(pivot_table)\n",
    "\n",
    "# Crear una tabla con el número de filas que faltan 1, 2 o 3 valores\n",
    "missing_count_summary = missing_paths_calc['missing_count'].value_counts().sort_index()\n",
    "\n",
    "# Mostrar el resumen del número de filas que tienen 1, 2 o 3 valores faltantes\n",
    "print(\"\\nNúmero de filas con 1, 2 o 3 valores faltantes:\")\n",
    "print(missing_count_summary)\n"
   ]
  },
  {
   "cell_type": "markdown",
   "id": "88f101e0",
   "metadata": {},
   "source": [
    "Eliminamos las filas en las que image_file_path está vacío, ya que si no existe esta imagen, que sería en input del modelo, no podemos usar estas líneas para entrenarlo"
   ]
  },
  {
   "cell_type": "code",
   "execution_count": 144,
   "id": "d8d9282c",
   "metadata": {},
   "outputs": [],
   "source": [
    "calc = calc[calc['image_file_path'].notna() & (calc['image_file_path'] != '')]\n",
    "mass = mass[mass['image_file_path'].notna() & (mass['image_file_path'] != '')]"
   ]
  },
  {
   "cell_type": "markdown",
   "id": "a0cc4ca2",
   "metadata": {},
   "source": [
    "Dimensiones de imágenes"
   ]
  },
  {
   "cell_type": "code",
   "execution_count": 145,
   "id": "a15b49e3",
   "metadata": {},
   "outputs": [
    {
     "name": "stdout",
     "output_type": "stream",
     "text": [
      "(3096, 4600)    9\n",
      "(4064, 5592)    7\n",
      "(3072, 4608)    7\n",
      "(3040, 4640)    7\n",
      "(3008, 4352)    6\n",
      "               ..\n",
      "(2296, 5431)    1\n",
      "(3241, 5386)    1\n",
      "(3040, 4864)    1\n",
      "(2856, 4888)    1\n",
      "(2456, 4688)    1\n",
      "Name: count, Length: 1172, dtype: int64\n"
     ]
    }
   ],
   "source": [
    "from PIL import Image\n",
    "\n",
    "def check_image_sizes(df, col):\n",
    "    sizes = []\n",
    "    for path in df[col]:\n",
    "        try:\n",
    "            with Image.open(path) as img:\n",
    "                sizes.append(img.size)\n",
    "        except:\n",
    "            sizes.append(None)\n",
    "    return pd.Series(sizes).value_counts()\n",
    "\n",
    "print(check_image_sizes(calc, 'image_file_path'))\n"
   ]
  },
  {
   "cell_type": "markdown",
   "id": "2b6ccf1f",
   "metadata": {},
   "source": [
    "Como las imagenes tienen dimensiones diferentes, vamos a redimensionarlas con un factor de escala que preserve la relación de aspecto y luego hacer padding solo en los bordes si es necesario.\n",
    "A nivel computacional sería mejor trabajar con 224x224, que es con el ue vamos a empezar, pero es posible que, al contener las mamografías detalles muy pequeños y específicos, quizá debemos considerar más adelante trabajar con una resolución más alta, como 512x512 o 1024x1024."
   ]
  },
  {
   "cell_type": "code",
   "execution_count": 146,
   "id": "69eb825b",
   "metadata": {},
   "outputs": [],
   "source": [
    "def resize_and_pad_and_save(image_path, output_path, target_size=(224, 224), fill_color=(255, 255, 255)): \n",
    "    #hacemos padding con color blanco, porque las imágenes tiene bordes blancos\n",
    "    try:\n",
    "        with Image.open(image_path) as img:\n",
    "            width, height = img.size\n",
    "            aspect_ratio = width / height\n",
    "\n",
    "            if aspect_ratio > 1:\n",
    "                new_width = target_size[0]\n",
    "                new_height = int(target_size[0] / aspect_ratio)\n",
    "            else:\n",
    "                new_height = target_size[1]\n",
    "                new_width = int(target_size[1] * aspect_ratio)\n",
    "\n",
    "            img_resized = img.resize((new_width, new_height))\n",
    "            img_padded = Image.new(\"RGB\", target_size, fill_color)\n",
    "            padding_left = (target_size[0] - new_width) // 2\n",
    "            padding_top = (target_size[1] - new_height) // 2\n",
    "            img_padded.paste(img_resized, (padding_left, padding_top))\n",
    "\n",
    "            os.makedirs(os.path.dirname(output_path), exist_ok=True)\n",
    "            img_padded.save(output_path)\n",
    "\n",
    "            return output_path\n",
    "    except Exception as e:\n",
    "        print(f\"Error processing {image_path}: {e}\")\n",
    "        return None\n",
    "\n",
    "def process_dataframe(df, name, columns_to_process):\n",
    "    for col in columns_to_process:\n",
    "        new_col = f\"{col}_red\"\n",
    "        new_paths = []\n",
    "        for path in df[col]:\n",
    "            if isinstance(path, str):\n",
    "                output_path = os.path.join(\"processed_images\", name, col, os.path.basename(path))\n",
    "                new_path = resize_and_pad_and_save(path, output_path)\n",
    "            else:\n",
    "                new_path = None\n",
    "            new_paths.append(new_path)\n",
    "        df[new_col] = new_paths\n",
    "    return df\n",
    "\n",
    "# Aplica el procesamiento\n",
    "columns = ['image_file_path', 'cropped_image_file_path', 'roi_mask_file_path']\n",
    "\n",
    "calc = process_dataframe(calc, 'calc', columns)\n",
    "mass = process_dataframe(mass, 'mass', columns)\n"
   ]
  },
  {
   "cell_type": "code",
   "execution_count": 147,
   "id": "00f6d6df",
   "metadata": {},
   "outputs": [
    {
     "name": "stdout",
     "output_type": "stream",
     "text": [
      "(224, 224)    1590\n",
      "Name: count, dtype: int64\n"
     ]
    }
   ],
   "source": [
    "def check_image_sizes(df, col):\n",
    "    sizes = []\n",
    "    for path in df[col]:\n",
    "        try:\n",
    "            with Image.open(path) as img:\n",
    "                sizes.append(img.size)\n",
    "        except:\n",
    "            sizes.append(None)\n",
    "    return pd.Series(sizes).value_counts()\n",
    "\n",
    "print(check_image_sizes(calc, 'image_file_path_red'))"
   ]
  },
  {
   "cell_type": "markdown",
   "id": "33d2e034",
   "metadata": {},
   "source": [
    "Eliminar duplicados"
   ]
  },
  {
   "cell_type": "code",
   "execution_count": 148,
   "id": "a4cbe0f8",
   "metadata": {},
   "outputs": [],
   "source": [
    "calc = calc.drop_duplicates(subset=['image_file_path']).reset_index(drop=True)\n",
    "mass = mass.drop_duplicates(subset=['image_file_path']).reset_index(drop=True)\n"
   ]
  },
  {
   "cell_type": "markdown",
   "id": "3881533f",
   "metadata": {},
   "source": [
    "## Normalización de datos"
   ]
  },
  {
   "cell_type": "markdown",
   "id": "81f66736",
   "metadata": {},
   "source": [
    "Comprobar valores de los píxeles para el conjunto de imágenes"
   ]
  },
  {
   "cell_type": "code",
   "execution_count": 149,
   "id": "239d7b04",
   "metadata": {},
   "outputs": [
    {
     "name": "stdout",
     "output_type": "stream",
     "text": [
      "📊 calc - image_file_path: Mínimo global = 0, Máximo global = 255\n",
      "📊 calc - cropped_image_file_path: Mínimo global = 0, Máximo global = 255\n",
      "📊 calc - roi_mask_file_path: Mínimo global = 0, Máximo global = 255\n",
      "📊 mass - image_file_path: Mínimo global = 0, Máximo global = 255\n",
      "📊 mass - cropped_image_file_path: Mínimo global = 0, Máximo global = 255\n",
      "📊 mass - roi_mask_file_path: Mínimo global = 0, Máximo global = 255\n"
     ]
    }
   ],
   "source": [
    "def check_pixel_range_multiple(dfs, columns):\n",
    "    results = {}\n",
    "\n",
    "    for df_name, df in dfs.items():\n",
    "        for col in columns:\n",
    "            min_vals = []\n",
    "            max_vals = []\n",
    "\n",
    "            for path in df[col].dropna():\n",
    "                if path != \"None\":  # Evitar cadenas \"None\"\n",
    "                    try:\n",
    "                        with Image.open(path) as img:\n",
    "                            img = img.convert(\"L\")  # Escala de grises\n",
    "                            arr = np.array(img)\n",
    "                            min_vals.append(arr.min())\n",
    "                            max_vals.append(arr.max())\n",
    "                    except Exception as e:\n",
    "                        print(f\"❌ Error con {path}: {e}\")\n",
    "\n",
    "            if min_vals and max_vals:\n",
    "                global_min = np.min(min_vals)\n",
    "                global_max = np.max(max_vals)\n",
    "                print(f\"📊 {df_name} - {col}: Mínimo global = {global_min}, Máximo global = {global_max}\")\n",
    "                results[(df_name, col)] = (min_vals, max_vals)\n",
    "            else:\n",
    "                print(f\"⚠️ {df_name} - {col}: No se encontraron valores válidos.\")\n",
    "                results[(df_name, col)] = ([], [])\n",
    "\n",
    "    return results\n",
    "\n",
    "# Uso:\n",
    "dfs = {\"calc\": calc, \"mass\": mass}\n",
    "columns = ['image_file_path', 'cropped_image_file_path', 'roi_mask_file_path']\n",
    "results = check_pixel_range_multiple(dfs, columns)\n",
    "\n"
   ]
  },
  {
   "cell_type": "code",
   "execution_count": 150,
   "id": "f062254e",
   "metadata": {},
   "outputs": [],
   "source": [
    "calc.to_csv('C:/Users/swatc/Desktop/UNI/TFM/TFM/artifacts/data/calc.csv', index=False)\n",
    "mass.to_csv('C:/Users/swatc/Desktop/UNI/TFM/TFM/artifacts/data/mass.csv', index=False)\n"
   ]
  },
  {
   "cell_type": "markdown",
   "id": "beae433a",
   "metadata": {},
   "source": [
    "Normalizar: Escalado a [0, 1]"
   ]
  },
  {
   "cell_type": "code",
   "execution_count": 151,
   "id": "8d3e08ee",
   "metadata": {},
   "outputs": [],
   "source": [
    "calc = pd.read_csv('C:/Users/swatc/Desktop/UNI/TFM/TFM/artifacts/data/calc.csv')\n",
    "mass = pd.read_csv('C:/Users/swatc/Desktop/UNI/TFM/TFM/artifacts/data/mass.csv')"
   ]
  },
  {
   "cell_type": "code",
   "execution_count": 152,
   "id": "46d51d75",
   "metadata": {},
   "outputs": [],
   "source": [
    "def load_and_normalize_image(path):\n",
    "    try:\n",
    "        if pd.notna(path) and path != \"None\":\n",
    "            with Image.open(path) as img:\n",
    "                img = img.convert(\"L\")  # Escala de grises\n",
    "                arr = np.array(img, dtype=np.float32) / 255.0  # Normaliza a [0,1]\n",
    "                return arr\n",
    "    except Exception as e:\n",
    "        print(f\"⚠️ Error con la imagen {path}: {e}\")\n",
    "    return None  # Si la imagen no es válida\n"
   ]
  },
  {
   "cell_type": "code",
   "execution_count": 153,
   "id": "4445229f",
   "metadata": {},
   "outputs": [],
   "source": [
    "def apply_normalization(df, columns):\n",
    "    for col in columns:\n",
    "        print(f\"🔄 Normalizando columna: {col}\")\n",
    "        df[f'{col}_normalized'] = df[col].apply(load_and_normalize_image)\n",
    "    return df\n"
   ]
  },
  {
   "cell_type": "code",
   "execution_count": 154,
   "id": "26eb6426",
   "metadata": {},
   "outputs": [
    {
     "name": "stdout",
     "output_type": "stream",
     "text": [
      "🔄 Normalizando columna: image_file_path_red\n"
     ]
    }
   ],
   "source": [
    "columns_to_process = ['image_file_path_red']\n",
    "\n",
    "calc = apply_normalization(calc, columns_to_process)\n"
   ]
  },
  {
   "cell_type": "code",
   "execution_count": 155,
   "id": "0170b88d",
   "metadata": {},
   "outputs": [
    {
     "name": "stdout",
     "output_type": "stream",
     "text": [
      "🔄 Normalizando columna: image_file_path_red\n"
     ]
    }
   ],
   "source": [
    "mass = apply_normalization(mass, columns_to_process)"
   ]
  },
  {
   "cell_type": "code",
   "execution_count": 156,
   "id": "bc8aec09",
   "metadata": {},
   "outputs": [
    {
     "name": "stdout",
     "output_type": "stream",
     "text": [
      "0\n",
      "0    processed_images\\calc\\image_file_path\\1-188.jpg\n",
      "1    processed_images\\calc\\image_file_path\\1-189.jpg\n",
      "2    processed_images\\calc\\image_file_path\\1-190.jpg\n",
      "3    processed_images\\calc\\image_file_path\\1-191.jpg\n",
      "4    processed_images\\calc\\image_file_path\\1-192.jpg\n",
      "Name: image_file_path_red, dtype: object\n"
     ]
    }
   ],
   "source": [
    "print(calc['image_file_path_red'].isna().sum())  # Cuántas fallaron\n",
    "print(calc['image_file_path_red'].head())        # Revisa cómo quedaron\n"
   ]
  },
  {
   "cell_type": "code",
   "execution_count": 157,
   "id": "a944938f",
   "metadata": {},
   "outputs": [
    {
     "data": {
      "text/plain": [
       "1265"
      ]
     },
     "execution_count": 157,
     "metadata": {},
     "output_type": "execute_result"
    }
   ],
   "source": [
    "len (calc)"
   ]
  },
  {
   "cell_type": "code",
   "execution_count": 158,
   "id": "bed0aa8d",
   "metadata": {},
   "outputs": [
    {
     "data": {
      "text/plain": [
       "1592"
      ]
     },
     "execution_count": 158,
     "metadata": {},
     "output_type": "execute_result"
    }
   ],
   "source": [
    "len(mass)"
   ]
  },
  {
   "cell_type": "code",
   "execution_count": 159,
   "id": "4d3aa4b2",
   "metadata": {},
   "outputs": [],
   "source": [
    "calc.to_csv('C:/Users/swatc/Desktop/UNI/TFM/TFM/artifacts/data/calc.csv', index=False)"
   ]
  },
  {
   "cell_type": "code",
   "execution_count": 160,
   "id": "6f8cf98c",
   "metadata": {},
   "outputs": [],
   "source": [
    "\n",
    "mass.to_csv('C:/Users/swatc/Desktop/UNI/TFM/TFM/artifacts/data/mass.csv', index=False)"
   ]
  }
 ],
 "metadata": {
  "kernelspec": {
   "display_name": "conda3.12",
   "language": "python",
   "name": "python3"
  },
  "language_info": {
   "codemirror_mode": {
    "name": "ipython",
    "version": 3
   },
   "file_extension": ".py",
   "mimetype": "text/x-python",
   "name": "python",
   "nbconvert_exporter": "python",
   "pygments_lexer": "ipython3",
   "version": "3.12.8"
  }
 },
 "nbformat": 4,
 "nbformat_minor": 5
}
